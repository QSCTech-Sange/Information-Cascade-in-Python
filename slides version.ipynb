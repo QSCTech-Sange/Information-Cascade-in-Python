{
 "cells": [
  {
   "cell_type": "markdown",
   "metadata": {
    "slideshow": {
     "slide_type": "slide"
    }
   },
   "source": [
    "# 信息瀑布实验模拟\n",
    "模拟实验，探索最优策略\n",
    "   \n",
    "  \n",
    "> 杨宇昊\n",
    ">\n",
    "> https://github.com/QSCTech-Sange/Information-Cascade-in-Python\n",
    ">\n",
    ">在主页上下载Slides记得浏览顺序是**能下则下，否则向右**。"
   ]
  },
  {
   "cell_type": "markdown",
   "metadata": {
    "slideshow": {
     "slide_type": "slide"
    }
   },
   "source": [
    "## 引入库\n",
    "我们需要`numpy`来加速随机数的生成以及列表的处理。\n",
    "\n",
    "\n",
    "使用`pandas`来以列表的形式记录实验结果。\n",
    "\n",
    "\n",
    "使用`matplotlib`来可视化结果。\n",
    "\n",
    "如果没有的话请使用`pip install package_name`来安装。"
   ]
  },
  {
   "cell_type": "code",
   "execution_count": 22,
   "metadata": {
    "slideshow": {
     "slide_type": "fragment"
    }
   },
   "outputs": [],
   "source": [
    "import numpy as np\n",
    "import pandas as pd\n",
    "import matplotlib.pyplot as plt\n",
    "import fractions\n",
    "%matplotlib inline\n",
    "%config InlineBackend.figure_format = 'retina'"
   ]
  },
  {
   "cell_type": "markdown",
   "metadata": {
    "slideshow": {
     "slide_type": "slide"
    }
   },
   "source": [
    "# 定义类\n",
    "采用面向对象的程序设计思想，来尽可能降低代码的阅读难度。\n",
    "\n",
    "基于同样的目的，对于类的内部变量也没有封装。"
   ]
  },
  {
   "cell_type": "markdown",
   "metadata": {
    "slideshow": {
     "slide_type": "subslide"
    }
   },
   "source": [
    "## 球\n",
    "我们只需要定义一个内部变量颜色。"
   ]
  },
  {
   "cell_type": "code",
   "execution_count": 23,
   "metadata": {
    "slideshow": {
     "slide_type": "fragment"
    }
   },
   "outputs": [],
   "source": [
    "class Ball:\n",
    "    def __init__(self, color):\n",
    "        self.color = color"
   ]
  },
  {
   "cell_type": "markdown",
   "metadata": {
    "slideshow": {
     "slide_type": "subslide"
    }
   },
   "source": [
    "## 杯子\n",
    "我们需要根据杯子的颜色来建立杯子，还要定义里面装了三个球，球的颜色按照实验的要求。\n",
    "\n",
    "\n",
    "除了构造函数以外，定义了一个`pick()`函数，表示从杯子里随机抽一个球。返回的结果是字符串，表示颜色。"
   ]
  },
  {
   "cell_type": "code",
   "execution_count": 24,
   "metadata": {
    "slideshow": {
     "slide_type": "fragment"
    }
   },
   "outputs": [],
   "source": [
    "class Cup:\n",
    "    def __init__(self, color):\n",
    "        self.color = color\n",
    "        if color == 'Red':\n",
    "            self.balls = np.array([Ball('Red'), Ball('Red'), Ball('Blue')])\n",
    "        else:\n",
    "            self.balls = np.array([Ball('Red'), Ball('Blue'), Ball('Blue')])\n",
    "\n",
    "    def pick(self):\n",
    "        return self.balls[np.random.randint(0, 3)].color"
   ]
  },
  {
   "cell_type": "markdown",
   "metadata": {
    "slideshow": {
     "slide_type": "subslide"
    }
   },
   "source": [
    "## 杯子集合\n",
    "总共有两个杯子，一红一蓝。杯子集合就是这么定义了。\n",
    "\n",
    "还有一个函数`random_pick()`表示随机抽选一个杯子。返回的对象是`Cup`。\n",
    "\n",
    "其实也可以不要这个类，直接写在`test`函数中也可，看哪种方便你理解了。"
   ]
  },
  {
   "cell_type": "code",
   "execution_count": 25,
   "metadata": {
    "slideshow": {
     "slide_type": "fragment"
    }
   },
   "outputs": [],
   "source": [
    "class Cups:\n",
    "    def __init__(self):\n",
    "        self.Cups = np.array([Cup('Red'), Cup('Blue')])\n",
    "\n",
    "    def random_pick(self):\n",
    "        return self.Cups[np.random.randint(0, 2)]"
   ]
  },
  {
   "cell_type": "markdown",
   "metadata": {
    "slideshow": {
     "slide_type": "subslide"
    }
   },
   "source": [
    "## 人\n",
    "人的构造函数要指定一个`order`，即这个实验中给定的次序。因为不同的次序所作出的决策是不同的。\n",
    "\n",
    "人的内部变量有次序，有抽到的球的颜色，有选择的颜色，还有选择的是否正确(和杯子颜色相同)。\n",
    "\n",
    "**其中要值得关注的是`decide(info)`函数**。这表示了你所定义了的人的策略行为。它需要一个`info`，表示前人的选择结果。你可以随意改变其中的策略，来观察结果。`method`代表第几个方法。我预置四种方法，第一种是优先考虑个人最优的方法（即个人的正确率最大），第二种是优先考虑群体最优的方法。\n",
    "第三种用于个人最优的对照。"
   ]
  },
  {
   "cell_type": "code",
   "execution_count": 5,
   "metadata": {
    "slideshow": {
     "slide_type": "subslide"
    }
   },
   "outputs": [],
   "source": [
    "class Person:\n",
    "    def __init__(self, order, Cup):\n",
    "        self.order = order\n",
    "        self.choice = None\n",
    "        self.right = False\n",
    "        self.cupcolor = Cup.color\n",
    "        self.picked = Cup.pick()\n",
    "\n",
    "    # TODO：feel free to add methods\n",
    "    def decide(self, info, method):\n",
    "        if method == 1:  # 优先考虑个人最优的情况\n",
    "            # 前两人选择自己抽到的颜色\n",
    "            if self.order == 1 or self.order == 2:\n",
    "                self.choice = self.picked\n",
    "            # 后人根据前两人来选择自己的颜色\n",
    "            else:\n",
    "                if info[self.order-2] == info[self.order-3]:\n",
    "                    self.choice = info[self.order -2]\n",
    "                else:\n",
    "                    self.choice = self.picked\n",
    "        if method == 2:  # 优先考虑最后一人最优的情况\n",
    "            if self.order != 6:\n",
    "                self.choice = self.picked\n",
    "            else:\n",
    "                info.append(self.picked)\n",
    "                if info.count('Red') > info.count('Blue'):\n",
    "                    self.choice = 'Red'\n",
    "                else:\n",
    "                    self.choice = 'Blue'"
   ]
  },
  {
   "cell_type": "code",
   "execution_count": 26,
   "metadata": {
    "slideshow": {
     "slide_type": "subslide"
    }
   },
   "outputs": [],
   "source": [
    "    # 接上一张    \n",
    "    if method == 3:  # 作为一的对照组\n",
    "            # 前三人选择自己抽到的颜色\n",
    "            if self.order <= 3:\n",
    "                self.choice = self.picked\n",
    "            # 后人根据前三人来选择自己的颜色，完全不看自己的颜色\n",
    "            else:\n",
    "                info_temp = info[-3]\n",
    "                if info_temp.count('Red') > info_temp.count('Blue'):\n",
    "                    self.choice = 'Red'\n",
    "                else:\n",
    "                    self.choice = 'Blue'\n",
    "        if method == 4: # 前两人按照自己的选，后面人根据前面的人选，如果前面的总人数五五开，按照自己的选，否则按照前面的人选。\n",
    "            if self.order == 1 or self.order == 2:\n",
    "                self.choice = self.picked\n",
    "            else:\n",
    "                if info.count('Red') > info.count('Blue'):\n",
    "                    self.choice = 'Red'\n",
    "                if info.count('Red') < info.count('Blue'):\n",
    "                    self.choice = 'Blue'\n",
    "                else:\n",
    "                    self.choice = self.picked\n",
    "      # if method == 5 :\n",
    "            # it's your'turn now!\n",
    "        \n",
    "    def strategy(self, info, method):\n",
    "        self.decide(info, method)\n",
    "        if self.choice == self.cupcolor:\n",
    "            self.right = True"
   ]
  },
  {
   "cell_type": "markdown",
   "metadata": {
    "slideshow": {
     "slide_type": "slide"
    }
   },
   "source": [
    "# 策略分析\n",
    "\n",
    "对于 method 1 而言 ——\n",
    "1. 当我所在的位置是第一个人的时候，我会选择自己抽到的颜色。显然，我的正确率有`2/3`。\n",
    "\n",
    "2. 当我所在的位置是第二个人的时候，我还是会选择自己抽到的颜色。因为如果我和前人颜色相同必选前人，答对的概率为`4/5`。而不同的时候，我选哪种颜色的概率都是`1/2`。为了告诉下一个人我和前人颜色不同，所以坚守自己的颜色可以更偏向群体最优。\n",
    "\n",
    "3. 当我所在的位置是第三个人的时候，如果前两人颜色相同，我会跟从他们的选择。如果两人颜色不同，我会坚定自己的选择。为什么是这样的结果？这是我经过概率论的推导得出的。\n",
    "\n",
    "4. 当我所在的位置是第四个人的时候，如果前两人颜色相同（即第三个人也相同），我会选择相同的颜色。如果两人颜色不同，我会选择自己的颜色。\n",
    "\n",
    "5. 当我所在的位置是第五人的时候，如果三四两人颜色相同，跟从他们的选择。如果三四两人颜色也不同，坚守自己的选择。\n",
    "\n",
    "6. 当我所在的位置是第六人的时候，如果四五人颜色相同，跟从他们的选择。如果四五人颜色不同，坚守自己的选择。\n"
   ]
  },
  {
   "cell_type": "markdown",
   "metadata": {
    "slideshow": {
     "slide_type": "subslide"
    }
   },
   "source": [
    "总的说来，就是前两人选自己的颜色，后面的人根据前两人是否相同而选择是否跟从他们。注意，必须人人按照这个规则，才可能得到最优群体解（最后一个人概率最大）。如果中间有一人打破，那么下一个人的最优解会发生变化。这经过了复杂而严密的推导——因为到后期所发生的分支实在是太多了。\n",
    "\n",
    "是不是越往后越绕，越乱？是时候更改代码验证你自己的策略啦！\n",
    "\n",
    "`method==2`时候的策略是前面五个人都遵照自己的意思，第六个人来判断，很明显是一种对最后一人最优的情况。\n",
    "\n",
    "`method==3`时候的策略是对于第一种策略的怀疑，可能你会觉得要前三个人都相同我才能更好地符合个人理性。是这样吗？我们实验来证明。\n",
    "\n",
    "你可能会怀疑，因为第四人或第三人的策略已经将前人的全部策略考虑进去了，所以我们更关注接近次序后面的人的选择。\n",
    "\n",
    "`method==4`时候的策略前两人按照自己的选，后面人根据前面的人选，如果前面的总人数五五开，按照自己的选，否则按照前面的人选。\n",
    "\n",
    "\n",
    "我知道你可能仍然在怀疑，而它已经列入`method==5` 里了。"
   ]
  },
  {
   "cell_type": "markdown",
   "metadata": {
    "slideshow": {
     "slide_type": "slide"
    }
   },
   "source": [
    "## 单次Test \n",
    "`Test`类代表一次实验，需要传递杯子集合，然后抽取一个杯子。接着，自身创建一个人群，人群包含6个人。最后还需要一个信息集。信息集记录前面人的选择。\n",
    "`Test`的核心函数是`test()`，每一个人根据策略选择，然后添加进`info`当中。`test_result()`返回了选择的结果，是一个`dataframe`类型。最后一个`print_result()`函数只是单纯为了检验`Test`类写得是否正确，是可以被删去的。"
   ]
  },
  {
   "cell_type": "code",
   "execution_count": 6,
   "metadata": {
    "slideshow": {
     "slide_type": "subslide"
    }
   },
   "outputs": [],
   "source": [
    "class Test:\n",
    "    def __init__(self, Cups):\n",
    "        self.cup = Cups.random_pick()\n",
    "        People = []\n",
    "        for i in range(1, 7):\n",
    "            People.append(Person(i, self.cup))\n",
    "        self.People = np.array(People)\n",
    "        self.info = []\n",
    "        \n",
    "    def test(self,method):\n",
    "        for i in range(0, 6):\n",
    "            self.People[i].strategy(self.info,method)\n",
    "            self.info.append(self.People[i].choice)\n",
    "\n",
    "    def test_result(self,rounds,method):\n",
    "        self.test(method)\n",
    "        data = pd.DataFrame([[rounds, 1, self.People[0].picked, self.People[0].choice, self.People[0].right]])\n",
    "        for i in range(1, 6):\n",
    "            choice = pd.DataFrame([[rounds, i + 1, self.People[i].picked, self.People[i].choice, self.People[i].right]])\n",
    "            data = data.append(choice)\n",
    "        return data\n",
    "    \n",
    "    def print_result(self):\n",
    "        print(\"Cup Color \" + self.cup.color)\n",
    "        print(\"Person id \" + \"  pick \" + \" claim \" + \" correct? \")\n",
    "        for i in range(0, 6):\n",
    "            print(\"     \" + str(i) + \"      \" + self.People[i].picked + \"   \" + self.People[i].choice +  \"   \" + str(self.People[i].right))"
   ]
  },
  {
   "cell_type": "markdown",
   "metadata": {
    "slideshow": {
     "slide_type": "slide"
    }
   },
   "source": [
    "### 检验代码是否正确\n",
    "先检验一次实验的结果。下面代码可以反复运行，看看实际结果是否符合我们要求的结果。这里使用的是Medthod 1。"
   ]
  },
  {
   "cell_type": "code",
   "execution_count": 7,
   "metadata": {
    "scrolled": false,
    "slideshow": {
     "slide_type": "fragment"
    }
   },
   "outputs": [
    {
     "name": "stdout",
     "output_type": "stream",
     "text": [
      "Cup Color Red\n",
      "Person id   pick  claim  correct? \n",
      "     0      Blue   Blue   False\n",
      "     1      Red   Red   True\n",
      "     2      Red   Red   True\n",
      "     3      Red   Red   True\n",
      "     4      Red   Red   True\n",
      "     5      Red   Red   True\n"
     ]
    }
   ],
   "source": [
    "cups = Cups()\n",
    "test = Test(cups)\n",
    "test.test(1)\n",
    "test.print_result()"
   ]
  },
  {
   "cell_type": "markdown",
   "metadata": {
    "slideshow": {
     "slide_type": "slide"
    }
   },
   "source": [
    "## Bingo!\n",
    "接下来需要反复测试并统计结果。我们定义一个`Multi_test`类。"
   ]
  },
  {
   "cell_type": "code",
   "execution_count": 8,
   "metadata": {
    "slideshow": {
     "slide_type": "fragment"
    }
   },
   "outputs": [],
   "source": [
    "class Multi_test:\n",
    "    def __init__(self, num, method):\n",
    "        self.cups = Cups()\n",
    "        self.data = pd.DataFrame(Test(self.cups).test_result(1,method))\n",
    "        for i in range(1, num):\n",
    "            self.data = self.data.append(Test(self.cups).test_result(i+1,method))\n",
    "        self.data.columns=['round', 'order', 'picked', 'choice', 'right']\n",
    "\n",
    "    def result(self):\n",
    "        return self.data"
   ]
  },
  {
   "cell_type": "markdown",
   "metadata": {
    "slideshow": {
     "slide_type": "slide"
    }
   },
   "source": [
    "## 检验代码是否正确\n",
    "先检验一次实验的结果。反复测试输出的结果是否符合预期，这里简单重复100次实验，使用方法一。"
   ]
  },
  {
   "cell_type": "code",
   "execution_count": 9,
   "metadata": {
    "slideshow": {
     "slide_type": "fragment"
    }
   },
   "outputs": [
    {
     "data": {
      "text/html": [
       "<div>\n",
       "<style scoped>\n",
       "    .dataframe tbody tr th:only-of-type {\n",
       "        vertical-align: middle;\n",
       "    }\n",
       "\n",
       "    .dataframe tbody tr th {\n",
       "        vertical-align: top;\n",
       "    }\n",
       "\n",
       "    .dataframe thead th {\n",
       "        text-align: right;\n",
       "    }\n",
       "</style>\n",
       "<table border=\"1\" class=\"dataframe\">\n",
       "  <thead>\n",
       "    <tr style=\"text-align: right;\">\n",
       "      <th></th>\n",
       "      <th>round</th>\n",
       "      <th>order</th>\n",
       "      <th>picked</th>\n",
       "      <th>choice</th>\n",
       "      <th>right</th>\n",
       "    </tr>\n",
       "  </thead>\n",
       "  <tbody>\n",
       "    <tr>\n",
       "      <th>0</th>\n",
       "      <td>1</td>\n",
       "      <td>1</td>\n",
       "      <td>Red</td>\n",
       "      <td>Red</td>\n",
       "      <td>True</td>\n",
       "    </tr>\n",
       "    <tr>\n",
       "      <th>0</th>\n",
       "      <td>1</td>\n",
       "      <td>2</td>\n",
       "      <td>Red</td>\n",
       "      <td>Red</td>\n",
       "      <td>True</td>\n",
       "    </tr>\n",
       "    <tr>\n",
       "      <th>0</th>\n",
       "      <td>1</td>\n",
       "      <td>3</td>\n",
       "      <td>Blue</td>\n",
       "      <td>Red</td>\n",
       "      <td>True</td>\n",
       "    </tr>\n",
       "    <tr>\n",
       "      <th>0</th>\n",
       "      <td>1</td>\n",
       "      <td>4</td>\n",
       "      <td>Red</td>\n",
       "      <td>Red</td>\n",
       "      <td>True</td>\n",
       "    </tr>\n",
       "    <tr>\n",
       "      <th>0</th>\n",
       "      <td>1</td>\n",
       "      <td>5</td>\n",
       "      <td>Red</td>\n",
       "      <td>Red</td>\n",
       "      <td>True</td>\n",
       "    </tr>\n",
       "    <tr>\n",
       "      <th>0</th>\n",
       "      <td>1</td>\n",
       "      <td>6</td>\n",
       "      <td>Red</td>\n",
       "      <td>Red</td>\n",
       "      <td>True</td>\n",
       "    </tr>\n",
       "    <tr>\n",
       "      <th>0</th>\n",
       "      <td>2</td>\n",
       "      <td>1</td>\n",
       "      <td>Red</td>\n",
       "      <td>Red</td>\n",
       "      <td>True</td>\n",
       "    </tr>\n",
       "    <tr>\n",
       "      <th>0</th>\n",
       "      <td>2</td>\n",
       "      <td>2</td>\n",
       "      <td>Blue</td>\n",
       "      <td>Blue</td>\n",
       "      <td>False</td>\n",
       "    </tr>\n",
       "    <tr>\n",
       "      <th>0</th>\n",
       "      <td>2</td>\n",
       "      <td>3</td>\n",
       "      <td>Red</td>\n",
       "      <td>Red</td>\n",
       "      <td>True</td>\n",
       "    </tr>\n",
       "    <tr>\n",
       "      <th>0</th>\n",
       "      <td>2</td>\n",
       "      <td>4</td>\n",
       "      <td>Red</td>\n",
       "      <td>Red</td>\n",
       "      <td>True</td>\n",
       "    </tr>\n",
       "    <tr>\n",
       "      <th>0</th>\n",
       "      <td>2</td>\n",
       "      <td>5</td>\n",
       "      <td>Blue</td>\n",
       "      <td>Red</td>\n",
       "      <td>True</td>\n",
       "    </tr>\n",
       "    <tr>\n",
       "      <th>0</th>\n",
       "      <td>2</td>\n",
       "      <td>6</td>\n",
       "      <td>Blue</td>\n",
       "      <td>Red</td>\n",
       "      <td>True</td>\n",
       "    </tr>\n",
       "  </tbody>\n",
       "</table>\n",
       "</div>"
      ],
      "text/plain": [
       "   round  order picked choice  right\n",
       "0      1      1    Red    Red   True\n",
       "0      1      2    Red    Red   True\n",
       "0      1      3   Blue    Red   True\n",
       "0      1      4    Red    Red   True\n",
       "0      1      5    Red    Red   True\n",
       "0      1      6    Red    Red   True\n",
       "0      2      1    Red    Red   True\n",
       "0      2      2   Blue   Blue  False\n",
       "0      2      3    Red    Red   True\n",
       "0      2      4    Red    Red   True\n",
       "0      2      5   Blue    Red   True\n",
       "0      2      6   Blue    Red   True"
      ]
     },
     "execution_count": 9,
     "metadata": {},
     "output_type": "execute_result"
    }
   ],
   "source": [
    "test = Multi_test(100,1).result()\n",
    "test.head(12)"
   ]
  },
  {
   "cell_type": "markdown",
   "metadata": {
    "slideshow": {
     "slide_type": "slide"
    }
   },
   "source": [
    "## Bingo！\n",
    "定义Medthod_Test,我们希望给定epoch和method，自动绘制出结果和显示比例。\n",
    "\n",
    "我们需要什么样的统计结果呢？\n",
    "\n",
    "我们需要看六个次序的不同的人，他们判断正确的人有多少。"
   ]
  },
  {
   "cell_type": "code",
   "execution_count": 10,
   "metadata": {
    "slideshow": {
     "slide_type": "fragment"
    }
   },
   "outputs": [],
   "source": [
    "class Method_Test:\n",
    "    def __init__(self, method, epoch):\n",
    "        Test = Multi_test(epoch, method).result()\n",
    "        self.grouped = Test[Test['right'] == True].drop(['round', 'picked', 'choice'], axis=1).groupby('order').count()      \n",
    "        self.epoch = epoch\n",
    "        \n",
    "    def plot(self):\n",
    "        self.grouped.plot(kind='bar', ylim=(0, self.epoch), figsize=(13, 6))\n",
    "\n",
    "    def ratio(self):\n",
    "        self.grouped['right'] = self.grouped['right'] / self.epoch\n",
    "        return self.grouped\n",
    "        \n",
    "    def ratio_whole(self):\n",
    "        print(self.whole_right/epoch/6)"
   ]
  },
  {
   "cell_type": "markdown",
   "metadata": {
    "slideshow": {
     "slide_type": "slide"
    }
   },
   "source": [
    "# 定义测试轮数\n",
    "我们测试50000轮。使用`head()`函数来检查是否运行正确。50000这个数字可以随意更改。越大越精确，同时运行速度越慢。"
   ]
  },
  {
   "cell_type": "code",
   "execution_count": 11,
   "metadata": {
    "slideshow": {
     "slide_type": "fragment"
    }
   },
   "outputs": [],
   "source": [
    "epoch = 50000"
   ]
  },
  {
   "cell_type": "markdown",
   "metadata": {
    "slideshow": {
     "slide_type": "subslide"
    }
   },
   "source": [
    "## 方法一：\n",
    "前两人选自己的颜色，后面的人根据前两人是否相同而选择是否跟从他们。"
   ]
  },
  {
   "cell_type": "code",
   "execution_count": 12,
   "metadata": {
    "slideshow": {
     "slide_type": "fragment"
    }
   },
   "outputs": [
    {
     "data": {
      "image/png": "[encoded data removed]",
      "text/plain": [
       "<Figure size 936x432 with 1 Axes>"
      ]
     },
     "metadata": {
      "image/png": {
       "height": 371,
       "width": 780
      },
      "needs_background": "light"
     },
     "output_type": "display_data"
    }
   ],
   "source": [
    "test_1 = Method_Test(1,epoch)\n",
    "test_1.plot()"
   ]
  },
  {
   "cell_type": "code",
   "execution_count": 13,
   "metadata": {
    "slideshow": {
     "slide_type": "subslide"
    }
   },
   "outputs": [
    {
     "data": {
      "text/html": [
       "<div>\n",
       "<style scoped>\n",
       "    .dataframe tbody tr th:only-of-type {\n",
       "        vertical-align: middle;\n",
       "    }\n",
       "\n",
       "    .dataframe tbody tr th {\n",
       "        vertical-align: top;\n",
       "    }\n",
       "\n",
       "    .dataframe thead th {\n",
       "        text-align: right;\n",
       "    }\n",
       "</style>\n",
       "<table border=\"1\" class=\"dataframe\">\n",
       "  <thead>\n",
       "    <tr style=\"text-align: right;\">\n",
       "      <th></th>\n",
       "      <th>right</th>\n",
       "    </tr>\n",
       "    <tr>\n",
       "      <th>order</th>\n",
       "      <th></th>\n",
       "    </tr>\n",
       "  </thead>\n",
       "  <tbody>\n",
       "    <tr>\n",
       "      <th>1</th>\n",
       "      <td>0.67048</td>\n",
       "    </tr>\n",
       "    <tr>\n",
       "      <th>2</th>\n",
       "      <td>0.66668</td>\n",
       "    </tr>\n",
       "    <tr>\n",
       "      <th>3</th>\n",
       "      <td>0.74442</td>\n",
       "    </tr>\n",
       "    <tr>\n",
       "      <th>4</th>\n",
       "      <td>0.74054</td>\n",
       "    </tr>\n",
       "    <tr>\n",
       "      <th>5</th>\n",
       "      <td>0.75848</td>\n",
       "    </tr>\n",
       "    <tr>\n",
       "      <th>6</th>\n",
       "      <td>0.75766</td>\n",
       "    </tr>\n",
       "  </tbody>\n",
       "</table>\n",
       "</div>"
      ],
      "text/plain": [
       "         right\n",
       "order         \n",
       "1      0.67048\n",
       "2      0.66668\n",
       "3      0.74442\n",
       "4      0.74054\n",
       "5      0.75848\n",
       "6      0.75766"
      ]
     },
     "execution_count": 13,
     "metadata": {},
     "output_type": "execute_result"
    }
   ],
   "source": [
    "test_1.ratio().head(6)"
   ]
  },
  {
   "cell_type": "code",
   "execution_count": 14,
   "metadata": {
    "slideshow": {
     "slide_type": "fragment"
    }
   },
   "outputs": [
    {
     "name": "stdout",
     "output_type": "stream",
     "text": [
      "order    0.723043\n",
      "right    0.723043\n",
      "dtype: float64\n"
     ]
    }
   ],
   "source": [
    "test_1.ratio_whole()"
   ]
  },
  {
   "cell_type": "markdown",
   "metadata": {
    "slideshow": {
     "slide_type": "fragment"
    }
   },
   "source": [
    "我们可以看到，排在第一二次序的人正确率是非常接近`2/3`的。从第二到第三的正确率大幅增加。在第三到第六次序依次几乎不变。我们用比例进行更好地展示。"
   ]
  },
  {
   "cell_type": "markdown",
   "metadata": {
    "slideshow": {
     "slide_type": "fragment"
    }
   },
   "source": [
    "这是一个使得自身正确率最大的策略。其中，所有人的准确率综合是大于0.72的。"
   ]
  },
  {
   "cell_type": "markdown",
   "metadata": {
    "slideshow": {
     "slide_type": "slide"
    }
   },
   "source": [
    "# 对照其他组\n"
   ]
  },
  {
   "cell_type": "markdown",
   "metadata": {
    "slideshow": {
     "slide_type": "fragment"
    }
   },
   "source": [
    "## 方法二\n",
    "`method==2`时候的策略是前面五个人都遵照自己的意思，第六个人来判断，很明显是一种对最后一人最优的情况。"
   ]
  },
  {
   "cell_type": "code",
   "execution_count": 15,
   "metadata": {
    "slideshow": {
     "slide_type": "subslide"
    }
   },
   "outputs": [
    {
     "data": {
      "image/png": "[encoded data removed]",
      "text/plain": [
       "<Figure size 936x432 with 1 Axes>"
      ]
     },
     "metadata": {
      "image/png": {
       "height": 371,
       "width": 780
      },
      "needs_background": "light"
     },
     "output_type": "display_data"
    }
   ],
   "source": [
    "test_2 = Method_Test(2,epoch)\n",
    "test_2.plot()"
   ]
  },
  {
   "cell_type": "markdown",
   "metadata": {
    "slideshow": {
     "slide_type": "fragment"
    }
   },
   "source": [
    "可以看到，这种策略的结果是前几位正确率在`2/3`左右，最后一位的结果大幅增加，符合我们的预期。"
   ]
  },
  {
   "cell_type": "code",
   "execution_count": 16,
   "metadata": {
    "slideshow": {
     "slide_type": "subslide"
    }
   },
   "outputs": [
    {
     "data": {
      "text/html": [
       "<div>\n",
       "<style scoped>\n",
       "    .dataframe tbody tr th:only-of-type {\n",
       "        vertical-align: middle;\n",
       "    }\n",
       "\n",
       "    .dataframe tbody tr th {\n",
       "        vertical-align: top;\n",
       "    }\n",
       "\n",
       "    .dataframe thead th {\n",
       "        text-align: right;\n",
       "    }\n",
       "</style>\n",
       "<table border=\"1\" class=\"dataframe\">\n",
       "  <thead>\n",
       "    <tr style=\"text-align: right;\">\n",
       "      <th></th>\n",
       "      <th>right</th>\n",
       "    </tr>\n",
       "    <tr>\n",
       "      <th>order</th>\n",
       "      <th></th>\n",
       "    </tr>\n",
       "  </thead>\n",
       "  <tbody>\n",
       "    <tr>\n",
       "      <th>1</th>\n",
       "      <td>0.66588</td>\n",
       "    </tr>\n",
       "    <tr>\n",
       "      <th>2</th>\n",
       "      <td>0.66790</td>\n",
       "    </tr>\n",
       "    <tr>\n",
       "      <th>3</th>\n",
       "      <td>0.66768</td>\n",
       "    </tr>\n",
       "    <tr>\n",
       "      <th>4</th>\n",
       "      <td>0.66538</td>\n",
       "    </tr>\n",
       "    <tr>\n",
       "      <th>5</th>\n",
       "      <td>0.66640</td>\n",
       "    </tr>\n",
       "    <tr>\n",
       "      <th>6</th>\n",
       "      <td>0.78910</td>\n",
       "    </tr>\n",
       "  </tbody>\n",
       "</table>\n",
       "</div>"
      ],
      "text/plain": [
       "         right\n",
       "order         \n",
       "1      0.66588\n",
       "2      0.66790\n",
       "3      0.66768\n",
       "4      0.66538\n",
       "5      0.66640\n",
       "6      0.78910"
      ]
     },
     "execution_count": 16,
     "metadata": {},
     "output_type": "execute_result"
    }
   ],
   "source": [
    "test_2.ratio().head(6)"
   ]
  },
  {
   "cell_type": "code",
   "execution_count": 17,
   "metadata": {
    "slideshow": {
     "slide_type": "fragment"
    }
   },
   "outputs": [
    {
     "name": "stdout",
     "output_type": "stream",
     "text": [
      "order    0.687057\n",
      "right    0.687057\n",
      "dtype: float64\n"
     ]
    }
   ],
   "source": [
    "test_2.ratio_whole()"
   ]
  },
  {
   "cell_type": "markdown",
   "metadata": {
    "slideshow": {
     "slide_type": "fragment"
    }
   },
   "source": [
    "但是这种策略的综合正确率只有0.68左右。"
   ]
  },
  {
   "cell_type": "markdown",
   "metadata": {
    "slideshow": {
     "slide_type": "slide"
    }
   },
   "source": [
    "## 方法三\n",
    "`method==3`时候的策略是对于第一种策略的怀疑，可能你会觉得要前三个人都相同我才能更好地符合个人理性。"
   ]
  },
  {
   "cell_type": "code",
   "execution_count": 18,
   "metadata": {
    "slideshow": {
     "slide_type": "fragment"
    }
   },
   "outputs": [
    {
     "data": {
      "image/png": "[encoded data removed]",
      "text/plain": [
       "<Figure size 936x432 with 1 Axes>"
      ]
     },
     "metadata": {
      "image/png": {
       "height": 371,
       "width": 780
      },
      "needs_background": "light"
     },
     "output_type": "display_data"
    }
   ],
   "source": [
    "test_3 = Method_Test(3,epoch)\n",
    "test_3.plot()"
   ]
  },
  {
   "cell_type": "code",
   "execution_count": 19,
   "metadata": {
    "slideshow": {
     "slide_type": "subslide"
    }
   },
   "outputs": [
    {
     "data": {
      "text/html": [
       "<div>\n",
       "<style scoped>\n",
       "    .dataframe tbody tr th:only-of-type {\n",
       "        vertical-align: middle;\n",
       "    }\n",
       "\n",
       "    .dataframe tbody tr th {\n",
       "        vertical-align: top;\n",
       "    }\n",
       "\n",
       "    .dataframe thead th {\n",
       "        text-align: right;\n",
       "    }\n",
       "</style>\n",
       "<table border=\"1\" class=\"dataframe\">\n",
       "  <thead>\n",
       "    <tr style=\"text-align: right;\">\n",
       "      <th></th>\n",
       "      <th>right</th>\n",
       "    </tr>\n",
       "    <tr>\n",
       "      <th>order</th>\n",
       "      <th></th>\n",
       "    </tr>\n",
       "  </thead>\n",
       "  <tbody>\n",
       "    <tr>\n",
       "      <th>1</th>\n",
       "      <td>0.66660</td>\n",
       "    </tr>\n",
       "    <tr>\n",
       "      <th>2</th>\n",
       "      <td>0.66432</td>\n",
       "    </tr>\n",
       "    <tr>\n",
       "      <th>3</th>\n",
       "      <td>0.66788</td>\n",
       "    </tr>\n",
       "    <tr>\n",
       "      <th>4</th>\n",
       "      <td>0.66660</td>\n",
       "    </tr>\n",
       "    <tr>\n",
       "      <th>5</th>\n",
       "      <td>0.66432</td>\n",
       "    </tr>\n",
       "    <tr>\n",
       "      <th>6</th>\n",
       "      <td>0.66788</td>\n",
       "    </tr>\n",
       "  </tbody>\n",
       "</table>\n",
       "</div>"
      ],
      "text/plain": [
       "         right\n",
       "order         \n",
       "1      0.66660\n",
       "2      0.66432\n",
       "3      0.66788\n",
       "4      0.66660\n",
       "5      0.66432\n",
       "6      0.66788"
      ]
     },
     "execution_count": 19,
     "metadata": {},
     "output_type": "execute_result"
    }
   ],
   "source": [
    "test_3.ratio().head(6)"
   ]
  },
  {
   "cell_type": "code",
   "execution_count": 20,
   "metadata": {
    "slideshow": {
     "slide_type": "fragment"
    }
   },
   "outputs": [
    {
     "name": "stdout",
     "output_type": "stream",
     "text": [
      "order    0.666267\n",
      "right    0.666267\n",
      "dtype: float64\n"
     ]
    }
   ],
   "source": [
    "test_3.ratio_whole()"
   ]
  },
  {
   "cell_type": "markdown",
   "metadata": {
    "slideshow": {
     "slide_type": "fragment"
    }
   },
   "source": [
    "实验表明，这种策略看起来很美好，实际上让所有人的正确率都很低，和按照自己球颜色的一样，大家都是`2/3`的概率。"
   ]
  },
  {
   "cell_type": "markdown",
   "metadata": {
    "slideshow": {
     "slide_type": "slide"
    }
   },
   "source": [
    "## 方法四\n",
    "`method==4`时候的策略前两人按照自己的选，后面人根据前面的人选，如果前面的总人数五五开，按照自己的选，否则按照前面的人选。"
   ]
  },
  {
   "cell_type": "code",
   "execution_count": 21,
   "metadata": {
    "slideshow": {
     "slide_type": "fragment"
    }
   },
   "outputs": [
    {
     "data": {
      "image/png": "[encoded data removed]",
      "text/plain": [
       "<Figure size 936x432 with 1 Axes>"
      ]
     },
     "metadata": {
      "image/png": {
       "height": 371,
       "width": 780
      },
      "needs_background": "light"
     },
     "output_type": "display_data"
    }
   ],
   "source": [
    "test_4 = Method_Test(4,epoch)\n",
    "test_4.plot()"
   ]
  },
  {
   "cell_type": "code",
   "execution_count": 22,
   "metadata": {
    "slideshow": {
     "slide_type": "subslide"
    }
   },
   "outputs": [
    {
     "data": {
      "text/html": [
       "<div>\n",
       "<style scoped>\n",
       "    .dataframe tbody tr th:only-of-type {\n",
       "        vertical-align: middle;\n",
       "    }\n",
       "\n",
       "    .dataframe tbody tr th {\n",
       "        vertical-align: top;\n",
       "    }\n",
       "\n",
       "    .dataframe thead th {\n",
       "        text-align: right;\n",
       "    }\n",
       "</style>\n",
       "<table border=\"1\" class=\"dataframe\">\n",
       "  <thead>\n",
       "    <tr style=\"text-align: right;\">\n",
       "      <th></th>\n",
       "      <th>right</th>\n",
       "    </tr>\n",
       "    <tr>\n",
       "      <th>order</th>\n",
       "      <th></th>\n",
       "    </tr>\n",
       "  </thead>\n",
       "  <tbody>\n",
       "    <tr>\n",
       "      <th>1</th>\n",
       "      <td>0.66642</td>\n",
       "    </tr>\n",
       "    <tr>\n",
       "      <th>2</th>\n",
       "      <td>0.66666</td>\n",
       "    </tr>\n",
       "    <tr>\n",
       "      <th>3</th>\n",
       "      <td>0.70354</td>\n",
       "    </tr>\n",
       "    <tr>\n",
       "      <th>4</th>\n",
       "      <td>0.70320</td>\n",
       "    </tr>\n",
       "    <tr>\n",
       "      <th>5</th>\n",
       "      <td>0.70168</td>\n",
       "    </tr>\n",
       "    <tr>\n",
       "      <th>6</th>\n",
       "      <td>0.70378</td>\n",
       "    </tr>\n",
       "  </tbody>\n",
       "</table>\n",
       "</div>"
      ],
      "text/plain": [
       "         right\n",
       "order         \n",
       "1      0.66642\n",
       "2      0.66666\n",
       "3      0.70354\n",
       "4      0.70320\n",
       "5      0.70168\n",
       "6      0.70378"
      ]
     },
     "execution_count": 22,
     "metadata": {},
     "output_type": "execute_result"
    }
   ],
   "source": [
    "test_4.ratio().head(6)"
   ]
  },
  {
   "cell_type": "code",
   "execution_count": 23,
   "metadata": {
    "slideshow": {
     "slide_type": "fragment"
    }
   },
   "outputs": [
    {
     "name": "stdout",
     "output_type": "stream",
     "text": [
      "order    0.69088\n",
      "right    0.69088\n",
      "dtype: float64\n"
     ]
    }
   ],
   "source": [
    "test_4.ratio_whole()"
   ]
  },
  {
   "cell_type": "markdown",
   "metadata": {
    "slideshow": {
     "slide_type": "fragment"
    }
   },
   "source": [
    "考虑了之前所有选择，被给予厚望的方法四效果仅仅比按照自己颜色选好了一点点。仅仅在第三个人身上有微小提升，其后人和第三人结果差异不大。"
   ]
  },
  {
   "cell_type": "markdown",
   "metadata": {
    "slideshow": {
     "slide_type": "slide"
    }
   },
   "source": [
    "# One more thing ..."
   ]
  },
  {
   "cell_type": "markdown",
   "metadata": {
    "slideshow": {
     "slide_type": "slide"
    }
   },
   "source": [
    "## 更好的测试方法？"
   ]
  },
  {
   "cell_type": "markdown",
   "metadata": {
    "slideshow": {
     "slide_type": "fragment"
    }
   },
   "source": [
    "我们可以利用**深度学习中的感知器神经网络**来自动最优化出最优参数。\n",
    "\n",
    "方法是这样：\n",
    "1. 首先将一种颜色定义为1，另一种定义为-1\n",
    "2. 先只考虑第二人的情况。\n",
    "3. 我们考虑三个变量，分别是第一个人的选择和自身所抽中的球的颜色，当然都是以1,-1表示的。\n",
    "4. 任意给定两个权重，譬如0.25,0.75（按照假定，应该是越往后次序抽到的颜色权重越重要，所以这样假设，当然也可以随机假设）。这两者对应前面两个变量的系数，也就是权重。将这两个权重分别与前两个变量乘起来，得到的和，就是对于颜色的预测。预测值大于0代表大于1的颜色，小于0代表小于-1的颜色。还有一个bias可以理解为截距。\n",
    "$$\n",
    "w_1x_1 + w_2x_2+b = prediction\n",
    "$$\n",
    "5. 定义一个损失函数，代表预测颜色和实际颜色不一致的错误率。\n",
    "6. 不断调整权重，使得预测结果尽可能地好。\n"
   ]
  },
  {
   "cell_type": "markdown",
   "metadata": {
    "slideshow": {
     "slide_type": "subslide"
    }
   },
   "source": [
    "\n",
    "如果拿第三个人来举例，如果第一个选择了红色(1)，第二个人选择了蓝色(-1)，你自己抽到了蓝色(-1)。初始化的权重是0.25,0.25,0.5。\n",
    "所以你对于颜色的结果预测是\n",
    "\n",
    "$$\n",
    "    \\hat{P} = 1 \\times 0.25 + -1 \\times 0.25 + -1 \\times 0.5 = -0.5 < 0 \n",
    "$$\n",
    "\n",
    "小于0,即认为是蓝色。\n",
    "\n",
    "损失函数通常使用交叉熵损失函数。它不仅衡量了猜对的个数，而且要求，颜色为0的预测结果越接近0的，比预测结果在0.4左右的更好。\n",
    "\n",
    "$$\n",
    "L(\\hat{y},y) = -ylog(\\hat{y}) - (1-y)log(1-\\hat{y})\n",
    "$$\n",
    "\n",
    "在感知器模型当中，损失函数只是简单的\n",
    "\n",
    "$$\n",
    "   L(w,b) = - \\sum_{x_i \\in M} y_i(w \\times x_i + b)\n",
    "$$\n",
    "\n",
    "调整权重的算法这里使用简单的单层感知器。使用随机梯度下降法，找到一个预测错的点，然后\n",
    "\n",
    "$$\n",
    "w=w+y_i\\times x_i \\times \\eta\n",
    "$$\n",
    "$$\n",
    "b = b + y_i \\times \\eta\n",
    "$$\n",
    "\n",
    "$\\eta$是学习率，小于1。"
   ]
  },
  {
   "cell_type": "markdown",
   "metadata": {
    "slideshow": {
     "slide_type": "subslide"
    }
   },
   "source": [
    "# 图形示例\n",
    "横坐标代表自身抽到的球的颜色，纵坐标代表上一个人声称的颜色。点的颜色是真实杯子的颜色。我们想要找到一根线，使得在这根线上面的都是红色的概率尽可能大，而下面的都是蓝色的概率尽可能大。"
   ]
  },
  {
   "cell_type": "code",
   "execution_count": null,
   "metadata": {
    "slideshow": {
     "slide_type": "fragment"
    }
   },
   "outputs": [],
   "source": [
    "X = np.array([[-1,-1],[-1,0.9],[1,0.9],[-1,1],[0.9,-0.9],[-0.9,-0.9],[-0.9,0.9],[1,-1],[0.9,0.9],[1,1],[1,0.9],[1,-0.9]])\n",
    "x1,y1,x2,y2 = -1.1,1.2,1.1,-1.2\n",
    "plt.scatter(X[:6, 0], X[:6, 1], color='blue',label = 'Blue cup')\n",
    "plt.scatter(X[6:, 0], X[6:, 1], color='red',label = 'Red cup')\n",
    "plt.plot([x1,x2], [y1,y2],'purple')\n",
    "plt.xlabel('self.color')\n",
    "plt.legend(loc = 'best')\n",
    "plt.ylabel('last_one.color')\n",
    "plt.title('Example')"
   ]
  },
  {
   "cell_type": "code",
   "execution_count": 2,
   "metadata": {
    "slideshow": {
     "slide_type": "subslide"
    }
   },
   "outputs": [
    {
     "data": {
      "image/png": "[encoded data removed]",
      "text/plain": [
       "<Figure size 432x288 with 1 Axes>"
      ]
     },
     "metadata": {
      "image/png": {
       "height": 277,
       "width": 396
      },
      "needs_background": "light"
     },
     "output_type": "display_data"
    }
   ],
   "source": [
    "plt.show()"
   ]
  },
  {
   "cell_type": "markdown",
   "metadata": {
    "slideshow": {
     "slide_type": "slide"
    }
   },
   "source": [
    "# 定义类 \n",
    "定义球，杯子，杯子集合。\n",
    "\n",
    "和之前几乎一样，除了颜色用1(Red),-1(Blue)来代替。"
   ]
  },
  {
   "cell_type": "code",
   "execution_count": 3,
   "metadata": {
    "slideshow": {
     "slide_type": "fragment"
    }
   },
   "outputs": [],
   "source": [
    "class Ball:\n",
    "    def __init__(self, color):\n",
    "        self.color = color\n",
    "\n",
    "class Cup:\n",
    "    def __init__(self, color):\n",
    "        self.color = color\n",
    "        if color == 1:\n",
    "            self.balls = np.array([Ball(1), Ball(1), Ball(-1)])\n",
    "        else:\n",
    "            self.balls = np.array([Ball(1), Ball(-1), Ball(-1)])\n",
    "\n",
    "    def pick(self):\n",
    "        return self.balls[np.random.randint(0, 3)].color\n",
    "    \n",
    "class Cups:\n",
    "    def __init__(self):\n",
    "        self.Cups = np.array([Cup(1), Cup(-1)])\n",
    "\n",
    "    def random_pick(self):\n",
    "        return self.Cups[np.random.randint(0, 2)]"
   ]
  },
  {
   "cell_type": "markdown",
   "metadata": {
    "slideshow": {
     "slide_type": "subslide"
    }
   },
   "source": [
    "# 人\n",
    "我们需要对人做一些改写。每次的策略实际上为\n",
    "\n",
    "$$\n",
    "    choice = sign(wx + b)\n",
    "$$\n",
    "\n",
    "$x$即info和自身抽到的球的颜色。$w$和$b$是要传递的权重和截矩。\n",
    "\n",
    "构造函数很好理解。和上一篇一样。\n",
    "\n"
   ]
  },
  {
   "cell_type": "code",
   "execution_count": 4,
   "metadata": {
    "slideshow": {
     "slide_type": "subslide"
    }
   },
   "outputs": [],
   "source": [
    "class Person:\n",
    "    def __init__(self, order, Cup):\n",
    "        self.order = order\n",
    "        self.choice = None\n",
    "        self.right = False\n",
    "        self.cupcolor = Cup.color\n",
    "        self.picked = Cup.pick()\n",
    "\n",
    "    def strategy(self, info, weight, bias):\n",
    "        if self.order == 1:\n",
    "            self.choice = self.picked\n",
    "        else:\n",
    "            x = np.array(info.copy())\n",
    "            x = np.append(x,self.picked)\n",
    "            self.choice = np.matmul(weight[self.order - 1],x.T) + bias[self.order - 1]\n",
    "            self.choice = int(np.sign(self.choice[0]))\n",
    "        if self.choice == self.cupcolor:\n",
    "            self.right = True"
   ]
  },
  {
   "cell_type": "markdown",
   "metadata": {
    "slideshow": {
     "slide_type": "fragment"
    }
   },
   "source": [
    "`strategy(self, info, weight, bias)`是这样的，如果次序是1则所抽即所选。\n",
    "\n",
    "是其他次序的话，需要用到权重和截矩。注意，这里的权重是一个二维数组，第一维记录的是给哪个次序的人的权重，第二位是真正的权重。比如对第二个人来说，他所利用到的权重就是weight\\[1\\]，而weight\\[1\\]里的内容假如为\\[0.1,0.9\\]，代表给第一个人的选择0.1的权重，给第二个人的选择为0.9的权重。\n",
    "\n",
    "最后根据所选是不是真正的颜色来赋值一个布尔变量给right。"
   ]
  },
  {
   "cell_type": "markdown",
   "metadata": {
    "slideshow": {
     "slide_type": "slide"
    }
   },
   "source": [
    "# 生成数据\n",
    "每次生成数据需要指定杯子集合，指定生成多少行数据（一行为一次测试结果），指定最大的order。因为当我们要考察第二人的选择时，我们需要第一人的选择，第二人的预测值和实际的杯子颜色。此时的order_max = 1。weight是所有人的预测权重集合的集合。bias 是误差项的集合。最后的result()返回一个dataframe。"
   ]
  },
  {
   "cell_type": "code",
   "execution_count": 5,
   "metadata": {
    "slideshow": {
     "slide_type": "slide"
    }
   },
   "outputs": [],
   "source": [
    "class GenerateData:\n",
    "        def __init__(self, Cups, order_max, num, weight, bias):\n",
    "            # 生成一行的数据\n",
    "            for i in range(0, num):\n",
    "                self.cup = Cups.random_pick()\n",
    "                people = []\n",
    "                info = []\n",
    "                # 生成每一个人的数据\n",
    "                for j in range(1,order_max + 1):                  \n",
    "                    people.append(Person(j, self.cup))\n",
    "                    people[j-1].strategy(info, weight, bias)\n",
    "                    info.append(people[j-1].choice)\n",
    "                info.append(Person(j,self.cup).picked)    \n",
    "                info.append(self.cup.color)\n",
    "                if i == 0:\n",
    "                    self.data = pd.DataFrame([info])\n",
    "                else:\n",
    "                    self.data = self.data.append(pd.DataFrame([info]))\n",
    "            # 定义列名\n",
    "            column = []\n",
    "            for i in range(1, order_max + 1):\n",
    "                column.append(\"person_\" + str(i)+\"_choice\")\n",
    "            column.append(\"person_\" + str(order_max + 1) + \"_picked\")\n",
    "            column.append(\"truth\")\n",
    "            self.data.columns = column\n",
    "\n",
    "        def result(self):\n",
    "            return self.data"
   ]
  },
  {
   "cell_type": "markdown",
   "metadata": {
    "slideshow": {
     "slide_type": "subslide"
    }
   },
   "source": [
    "# 测试生成数据\n",
    "假设order_max为1的时候，生成测试数据。此时weight和bias不重要，随便设，符合格式要求即可。\n"
   ]
  },
  {
   "cell_type": "code",
   "execution_count": 6,
   "metadata": {
    "slideshow": {
     "slide_type": "fragment"
    }
   },
   "outputs": [
    {
     "data": {
      "text/html": [
       "<div>\n",
       "<style scoped>\n",
       "    .dataframe tbody tr th:only-of-type {\n",
       "        vertical-align: middle;\n",
       "    }\n",
       "\n",
       "    .dataframe tbody tr th {\n",
       "        vertical-align: top;\n",
       "    }\n",
       "\n",
       "    .dataframe thead th {\n",
       "        text-align: right;\n",
       "    }\n",
       "</style>\n",
       "<table border=\"1\" class=\"dataframe\">\n",
       "  <thead>\n",
       "    <tr style=\"text-align: right;\">\n",
       "      <th></th>\n",
       "      <th>person_1_choice</th>\n",
       "      <th>person_2_picked</th>\n",
       "      <th>truth</th>\n",
       "    </tr>\n",
       "  </thead>\n",
       "  <tbody>\n",
       "    <tr>\n",
       "      <th>0</th>\n",
       "      <td>-1</td>\n",
       "      <td>-1</td>\n",
       "      <td>-1</td>\n",
       "    </tr>\n",
       "    <tr>\n",
       "      <th>0</th>\n",
       "      <td>1</td>\n",
       "      <td>-1</td>\n",
       "      <td>1</td>\n",
       "    </tr>\n",
       "    <tr>\n",
       "      <th>0</th>\n",
       "      <td>1</td>\n",
       "      <td>1</td>\n",
       "      <td>1</td>\n",
       "    </tr>\n",
       "    <tr>\n",
       "      <th>0</th>\n",
       "      <td>1</td>\n",
       "      <td>-1</td>\n",
       "      <td>-1</td>\n",
       "    </tr>\n",
       "    <tr>\n",
       "      <th>0</th>\n",
       "      <td>1</td>\n",
       "      <td>-1</td>\n",
       "      <td>-1</td>\n",
       "    </tr>\n",
       "    <tr>\n",
       "      <th>0</th>\n",
       "      <td>1</td>\n",
       "      <td>-1</td>\n",
       "      <td>1</td>\n",
       "    </tr>\n",
       "    <tr>\n",
       "      <th>0</th>\n",
       "      <td>1</td>\n",
       "      <td>1</td>\n",
       "      <td>1</td>\n",
       "    </tr>\n",
       "    <tr>\n",
       "      <th>0</th>\n",
       "      <td>1</td>\n",
       "      <td>-1</td>\n",
       "      <td>-1</td>\n",
       "    </tr>\n",
       "    <tr>\n",
       "      <th>0</th>\n",
       "      <td>1</td>\n",
       "      <td>1</td>\n",
       "      <td>1</td>\n",
       "    </tr>\n",
       "    <tr>\n",
       "      <th>0</th>\n",
       "      <td>1</td>\n",
       "      <td>1</td>\n",
       "      <td>1</td>\n",
       "    </tr>\n",
       "  </tbody>\n",
       "</table>\n",
       "</div>"
      ],
      "text/plain": [
       "   person_1_choice  person_2_picked  truth\n",
       "0               -1               -1     -1\n",
       "0                1               -1      1\n",
       "0                1                1      1\n",
       "0                1               -1     -1\n",
       "0                1               -1     -1\n",
       "0                1               -1      1\n",
       "0                1                1      1\n",
       "0                1               -1     -1\n",
       "0                1                1      1\n",
       "0                1                1      1"
      ]
     },
     "execution_count": 6,
     "metadata": {},
     "output_type": "execute_result"
    }
   ],
   "source": [
    "weight = np.array([[0],[0,0],[0,0,0],[0,0,0,0],[0,0,0,0,0],[0,0,0,0,0,0]])\n",
    "bias = np.array([[0],[0],[0],[0],[0],[0]])\n",
    "cups = Cups()\n",
    "data = GenerateData(cups, 1, 10, weight, bias).result()\n",
    "data.head(10)"
   ]
  },
  {
   "cell_type": "markdown",
   "metadata": {
    "slideshow": {
     "slide_type": "subslide"
    }
   },
   "source": [
    "## 测试生成数据\n",
    "假设order_max为2的时候，生成测试数据。此时weight和bias的第一项会纳入到第二个人的决策当中。这里随便给个[0.4,0.6]。\n"
   ]
  },
  {
   "cell_type": "code",
   "execution_count": 7,
   "metadata": {
    "slideshow": {
     "slide_type": "fragment"
    }
   },
   "outputs": [
    {
     "data": {
      "text/html": [
       "<div>\n",
       "<style scoped>\n",
       "    .dataframe tbody tr th:only-of-type {\n",
       "        vertical-align: middle;\n",
       "    }\n",
       "\n",
       "    .dataframe tbody tr th {\n",
       "        vertical-align: top;\n",
       "    }\n",
       "\n",
       "    .dataframe thead th {\n",
       "        text-align: right;\n",
       "    }\n",
       "</style>\n",
       "<table border=\"1\" class=\"dataframe\">\n",
       "  <thead>\n",
       "    <tr style=\"text-align: right;\">\n",
       "      <th></th>\n",
       "      <th>person_1_choice</th>\n",
       "      <th>person_2_choice</th>\n",
       "      <th>person_3_picked</th>\n",
       "      <th>truth</th>\n",
       "    </tr>\n",
       "  </thead>\n",
       "  <tbody>\n",
       "    <tr>\n",
       "      <th>0</th>\n",
       "      <td>-1</td>\n",
       "      <td>-1</td>\n",
       "      <td>-1</td>\n",
       "      <td>-1</td>\n",
       "    </tr>\n",
       "    <tr>\n",
       "      <th>0</th>\n",
       "      <td>-1</td>\n",
       "      <td>-1</td>\n",
       "      <td>1</td>\n",
       "      <td>-1</td>\n",
       "    </tr>\n",
       "    <tr>\n",
       "      <th>0</th>\n",
       "      <td>1</td>\n",
       "      <td>-1</td>\n",
       "      <td>-1</td>\n",
       "      <td>-1</td>\n",
       "    </tr>\n",
       "    <tr>\n",
       "      <th>0</th>\n",
       "      <td>1</td>\n",
       "      <td>1</td>\n",
       "      <td>1</td>\n",
       "      <td>1</td>\n",
       "    </tr>\n",
       "    <tr>\n",
       "      <th>0</th>\n",
       "      <td>1</td>\n",
       "      <td>-1</td>\n",
       "      <td>1</td>\n",
       "      <td>1</td>\n",
       "    </tr>\n",
       "    <tr>\n",
       "      <th>0</th>\n",
       "      <td>-1</td>\n",
       "      <td>1</td>\n",
       "      <td>-1</td>\n",
       "      <td>1</td>\n",
       "    </tr>\n",
       "    <tr>\n",
       "      <th>0</th>\n",
       "      <td>-1</td>\n",
       "      <td>1</td>\n",
       "      <td>1</td>\n",
       "      <td>1</td>\n",
       "    </tr>\n",
       "    <tr>\n",
       "      <th>0</th>\n",
       "      <td>-1</td>\n",
       "      <td>-1</td>\n",
       "      <td>-1</td>\n",
       "      <td>-1</td>\n",
       "    </tr>\n",
       "    <tr>\n",
       "      <th>0</th>\n",
       "      <td>-1</td>\n",
       "      <td>1</td>\n",
       "      <td>1</td>\n",
       "      <td>1</td>\n",
       "    </tr>\n",
       "    <tr>\n",
       "      <th>0</th>\n",
       "      <td>1</td>\n",
       "      <td>1</td>\n",
       "      <td>-1</td>\n",
       "      <td>-1</td>\n",
       "    </tr>\n",
       "  </tbody>\n",
       "</table>\n",
       "</div>"
      ],
      "text/plain": [
       "   person_1_choice  person_2_choice  person_3_picked  truth\n",
       "0               -1               -1               -1     -1\n",
       "0               -1               -1                1     -1\n",
       "0                1               -1               -1     -1\n",
       "0                1                1                1      1\n",
       "0                1               -1                1      1\n",
       "0               -1                1               -1      1\n",
       "0               -1                1                1      1\n",
       "0               -1               -1               -1     -1\n",
       "0               -1                1                1      1\n",
       "0                1                1               -1     -1"
      ]
     },
     "execution_count": 7,
     "metadata": {},
     "output_type": "execute_result"
    }
   ],
   "source": [
    "weight = np.array([[0],[0.4,0.6],[0,0,0],[0,0,0,0],[0,0,0,0,0],[0,0,0,0,0,0]])\n",
    "bias = np.array([[0],[0],[0],[0],[0],[0]])\n",
    "cups = Cups()\n",
    "data = GenerateData(cups, 2, 10, weight, bias).result()\n",
    "data.head(10)"
   ]
  },
  {
   "cell_type": "markdown",
   "metadata": {
    "slideshow": {
     "slide_type": "slide"
    }
   },
   "source": [
    "## 构建模型\n",
    "数据已经生成完成，接下来要开始构建一个用来训练的模型。给定data，会随机一个weight和bias。\n",
    "\n",
    "我们设定为当两次训练的误差变动小于0.001时停止训练。"
   ]
  },
  {
   "cell_type": "code",
   "execution_count": 8,
   "metadata": {
    "slideshow": {
     "slide_type": "fragment"
    }
   },
   "outputs": [],
   "source": [
    "class Model:\n",
    "    def __init__(self, data):\n",
    "        self.data = data\n",
    "        self.column = data.shape[1] - 1\n",
    "        self.weight = np.random.rand(self.column)\n",
    "        self.bias = np.random.rand()\n",
    "        self.loss = 9999999\n",
    "            \n",
    "    # 打印损失和权重，用于每次训练后的返回数据\n",
    "    def print_loss(self,i):\n",
    "        weight_print = \"[\"\n",
    "        for k in self.weight:\n",
    "            weight_print = weight_print + str(k) + \" \"\n",
    "        weight_print += ']'\n",
    "        print(\"loss = \" + str(self.loss) + \"; epoch = \" + str(i + 1) + \"; weight = \" + weight_print + \"; bias = \" + str(self.bias))\n",
    "    \n",
    "    # 返回结果的权重和偏差\n",
    "    def result(self):\n",
    "        return self.weight, self.bias"
   ]
  },
  {
   "cell_type": "code",
   "execution_count": null,
   "metadata": {
    "slideshow": {
     "slide_type": "subslide"
    }
   },
   "outputs": [],
   "source": [
    "    # 接上一张\n",
    "    def train(self, learn_rate, onPrint):\n",
    "        # truth 是正确的杯子颜色集合\n",
    "        truth = np.array(self.data.iloc[:, -1])\n",
    "        # x 是变量的集合\n",
    "        x = self.data.iloc[:, :-1]\n",
    "        # epoch 是训练周期\n",
    "        epoch = 0\n",
    "        while (True):  # 循环内为一次训练过程\n",
    "            \n",
    "            # 根据权重计算预测值\n",
    "            prediction = np.matmul(self.weight, x.T) + self.bias\n",
    "\n",
    "            # 计算损失\n",
    "            loss = np.exp(- np.matmul(truth, prediction.T) / len(self.data))\n",
    "            # 打印损失\n",
    "            if onPrint:\n",
    "                self.print_loss(epoch)\n",
    "            if abs(self.loss - loss) < 0.001:\n",
    "                if not onPrint:\n",
    "                    self.print_loss(epoch)\n",
    "                break\n",
    "            self.loss = loss\n",
    "            \n",
    "            # 找到分类错的那些点\n",
    "            prediction_sign = np.sign(prediction)\n",
    "            self.data['prediction_sign'] = prediction_sign\n",
    "            mis = self.data[self.data['prediction_sign'] != self.data['truth']].copy()\n",
    "            \n",
    "            # 对权重和偏差进行更新\n",
    "            for j in range(int(len(mis)/2)):\n",
    "                mis.iloc[j, :-2] = mis.iloc[j, :-2] * mis.iloc[j, -1]\n",
    "                self.weight = self.weight + mis.iloc[j, :-2] * learn_rate\n",
    "                self.bias = self.bias + mis.iloc[j, -2] * learn_rate\n",
    "            epoch += 1"
   ]
  },
  {
   "cell_type": "markdown",
   "metadata": {
    "slideshow": {
     "slide_type": "slide"
    }
   },
   "source": [
    "## 测试你的模型\n",
    "先以一个两维的作为测试。"
   ]
  },
  {
   "cell_type": "code",
   "execution_count": 12,
   "metadata": {
    "slideshow": {
     "slide_type": "fragment"
    }
   },
   "outputs": [
    {
     "name": "stdout",
     "output_type": "stream",
     "text": [
      "loss = 9999999; epoch = 1; weight = [0.522718659426755 0.22412109356623877 ]; bias = 0.29328225611946324\n",
      "loss = 0.7957073948036792; epoch = 2; weight = [1.3787186594267138 -0.0978789064337615 ]; bias = 0.2712822561194632\n",
      "loss = 0.6789331871333498; epoch = 3; weight = [2.2347186594266195 -0.41987890643376174 ]; bias = 0.2492822561194632\n",
      "loss = 0.5792962031033825; epoch = 4; weight = [3.0907186594265252 -0.741878906433762 ]; bias = 0.22728225611946318\n",
      "loss = 0.4942814658198222; epoch = 5; weight = [3.946718659426431 -1.0638789064337553 ]; bias = 0.20528225611946316\n",
      "loss = 0.4217430843567781; epoch = 6; weight = [4.802718659426693 -1.3858789064337198 ]; bias = 0.18328225611946314\n",
      "loss = 0.3598500884667678; epoch = 7; weight = [5.658718659426979 -1.7078789064336843 ]; bias = 0.16128225611946312\n",
      "loss = 0.3070402123298235; epoch = 8; weight = [6.514718659427265 -2.029878906433649 ]; bias = 0.1392822561194631\n",
      "loss = 0.26198046077804205; epoch = 9; weight = [7.370718659427551 -2.3518789064336136 ]; bias = 0.11728225611946308\n",
      "loss = 0.22353346263240792; epoch = 10; weight = [8.226718659427636 -2.673878906433578 ]; bias = 0.09528225611946306\n",
      "loss = 0.19072876186278304; epoch = 11; weight = [9.082718659427162 -2.9958789064335427 ]; bias = 0.07328225611946304\n",
      "loss = 0.16273832191978305; epoch = 12; weight = [9.938718659426687 -3.3178789064335072 ]; bias = 0.05128225611946302\n",
      "loss = 0.13885562493359208; epoch = 13; weight = [10.794718659426213 -3.639878906433472 ]; bias = 0.029282256119463\n",
      "loss = 0.11847783821441991; epoch = 14; weight = [11.650718659425738 -3.9618789064334363 ]; bias = 0.007282256119462983\n",
      "loss = 0.1010905979118642; epoch = 15; weight = [12.506718659425264 -4.283878906433527 ]; bias = -0.014717743880537024\n",
      "loss = 0.08625502575159946; epoch = 16; weight = [13.36271865942479 -4.6058789064336345 ]; bias = -0.03671774388053704\n",
      "loss = 0.07359665113362583; epoch = 17; weight = [14.218718659424315 -4.927878906433742 ]; bias = -0.05871774388053706\n",
      "loss = 0.06279595897035839; epoch = 18; weight = [15.07471865942384 -5.24987890643385 ]; bias = -0.08071774388053708\n",
      "loss = 0.05358032467873034; epoch = 19; weight = [15.930718659423366 -5.571878906433957 ]; bias = -0.1027177438805371\n",
      "loss = 0.045717132754247575; epoch = 20; weight = [16.786718659424288 -5.893878906434065 ]; bias = -0.12471774388053711\n",
      "loss = 0.03900790523015024; epoch = 21; weight = [17.642718659425334 -6.215878906434172 ]; bias = -0.14671774388053713\n",
      "loss = 0.0332832918158662; epoch = 22; weight = [18.49871865942638 -6.53787890643428 ]; bias = -0.16871774388053715\n",
      "loss = 0.028398795258656136; epoch = 23; weight = [19.354718659427427 -6.859878906434387 ]; bias = -0.19071774388053717\n",
      "loss = 0.024231124030785388; epoch = 24; weight = [20.210718659428473 -7.181878906434495 ]; bias = -0.21271774388053719\n",
      "loss = 0.02067508027884855; epoch = 25; weight = [21.06671865942952 -7.503878906434602 ]; bias = -0.2347177438805372\n",
      "loss = 0.01764090448275334; epoch = 26; weight = [21.922718659430565 -7.82587890643471 ]; bias = -0.2567177438805372\n",
      "loss = 0.015052009799836157; epoch = 27; weight = [22.77871865943161 -8.147878906434686 ]; bias = -0.2787177438805372\n",
      "loss = 0.012843048905789032; epoch = 28; weight = [23.634718659432657 -8.469878906434507 ]; bias = -0.30071774388053724\n",
      "loss = 0.01095826453675799; epoch = 29; weight = [24.490718659433703 -8.791878906434329 ]; bias = -0.32271774388053726\n",
      "loss = 0.009350082097985346; epoch = 30; weight = [25.34671865943475 -9.11387890643415 ]; bias = -0.3447177438805373\n",
      "loss = 0.007977908814467392; epoch = 31; weight = [26.202718659435796 -9.435878906433972 ]; bias = -0.3667177438805373\n",
      "loss = 0.00680710911251458; epoch = 32; weight = [27.058718659436842 -9.757878906433794 ]; bias = -0.3887177438805373\n"
     ]
    }
   ],
   "source": [
    "weight = np.array([[0], [0, 0], [0, 0, 0], [0, 0, 0, 0], [0, 0, 0, 0, 0], [0, 0, 0, 0, 0, 0]])\n",
    "bias = np.array([[0], [0], [0], [0], [0], [0]])\n",
    "data = GenerateData(cups, 1, 5000, weight, bias).result()\n",
    "model = Model(data)\n",
    "model.train(0.001, True)"
   ]
  },
  {
   "cell_type": "markdown",
   "metadata": {
    "slideshow": {
     "slide_type": "slide"
    }
   },
   "source": [
    "# 展示出我们的结果\n",
    "我们尝试作图来看看最后的划分线落在哪里。"
   ]
  },
  {
   "cell_type": "code",
   "execution_count": 14,
   "metadata": {
    "slideshow": {
     "slide_type": "subslide"
    }
   },
   "outputs": [
    {
     "data": {
      "image/png": "[encoded data removed]",
      "text/plain": [
       "<Figure size 432x288 with 1 Axes>"
      ]
     },
     "metadata": {
      "image/png": {
       "height": 277,
       "width": 386
      },
      "needs_background": "light"
     },
     "output_type": "display_data"
    }
   ],
   "source": [
    "weight_1,bias_1 = model.result()\n",
    "X = np.array([[-1,-1],[-1,0.9],[1,0.9],[-1,-0.9],[-1,1],[0.9,-0.9],[-0.9,-0.9],[-0.9,0.9],[1,-1],[0.9,0.9],[1,1],[1,0.9],[1,-0.9]])\n",
    "plt.scatter(X[:7, 0], X[:7, 1], color='blue',label = 'Blue cup')\n",
    "plt.scatter(X[7:, 0], X[7:, 1], color='red',label = 'Red cup')\n",
    "y1 = - ( 1.05 * weight_1[0] + bias_1) / weight_1[1]\n",
    "y2 = - ( -1.05 * weight_1[0] + bias_1) / weight_1[1]\n",
    "plt.plot([1.05,-1.05], [y1,y2],'purple')\n",
    "plt.xlabel('self.color')\n",
    "plt.legend(loc = 'best')\n",
    "plt.ylabel('fisrt_one.color')\n",
    "plt.title('Example')\n",
    "plt.show()"
   ]
  },
  {
   "cell_type": "markdown",
   "metadata": {
    "slideshow": {
     "slide_type": "fragment"
    }
   },
   "source": [
    "可以看得到，我们的直线还是有明显的分割数据的痕迹。Nice！"
   ]
  },
  {
   "cell_type": "markdown",
   "metadata": {
    "slideshow": {
     "slide_type": "slide"
    }
   },
   "source": [
    "## 坐稳了吗？\n",
    "维数要升上去了！"
   ]
  },
  {
   "cell_type": "markdown",
   "metadata": {
    "slideshow": {
     "slide_type": "slide"
    }
   },
   "source": [
    "# 定义一个多轮测试的类\n",
    "对每个次序的人都拟合出最优点。"
   ]
  },
  {
   "cell_type": "code",
   "execution_count": 15,
   "metadata": {
    "slideshow": {
     "slide_type": "fragment"
    }
   },
   "outputs": [],
   "source": [
    "class MultiTest:\n",
    "    def __init__(self, num):\n",
    "        self.num = num\n",
    "        cups = Cups()\n",
    "        self.weight = np.array([[0], [0, 0], [0, 0, 0], [0, 0, 0, 0], [0, 0, 0, 0, 0], [0, 0, 0, 0, 0, 0]])\n",
    "        self.bias = np.array([[0], [0], [0], [0], [0], [0]])\n",
    "        for i in range(1, 7):\n",
    "            data = GenerateData(cups, i, num, self.weight, self.bias).result()\n",
    "            print(\"order = \" + str(i))\n",
    "            model = Model(data)\n",
    "            model.train(0.001, False)\n",
    "            if i < 6:\n",
    "                self.weight[i],self.bias[i] = model.result()\n",
    "        self.data = GenerateData(cups, 6, num, self.weight, self.bias).result()\n",
    "        \n",
    "    def result(self):\n",
    "        return self.data.drop(['person_7_picked'],axis=1)"
   ]
  },
  {
   "cell_type": "markdown",
   "metadata": {
    "slideshow": {
     "slide_type": "slide"
    }
   },
   "source": [
    "# Attention! \n",
    "# 开始训练!"
   ]
  },
  {
   "cell_type": "code",
   "execution_count": 16,
   "metadata": {
    "slideshow": {
     "slide_type": "slide"
    }
   },
   "outputs": [
    {
     "name": "stdout",
     "output_type": "stream",
     "text": [
      "order = 1\n",
      "loss = 0.0053740649464186175; epoch = 26; weight = [-1.667127912577806 17.774981243724255 ]; bias = -0.3854440891543926\n",
      "order = 2\n",
      "loss = 0.003396749551628161; epoch = 21; weight = [5.709097332087547 5.428141869261497 6.783609292226206 ]; bias = -0.055487338514114776\n",
      "order = 3\n",
      "loss = 0.007179212294420562; epoch = 30; weight = [-7.401494004170759 24.921316142688994 3.8132722076384655 -6.974944545920083 ]; bias = 0.4089974769243818\n",
      "order = 4\n",
      "loss = 0.0017584611296297774; epoch = 14; weight = [-2.613256004258757 10.713057516431446 1.977985928125098 11.24107112198516 -2.508503085634685 ]; bias = 0.5360189777913564\n",
      "order = 5\n",
      "loss = 0.0011764328388640629; epoch = 10; weight = [-2.289737232446759 7.880304908893942 1.3955521063542213 7.882109443840587 8.133376049379367 -2.123123011419767 ]; bias = -0.09506235892376334\n",
      "order = 6\n",
      "loss = 0.001552018224907629; epoch = 7; weight = [-1.4929075727781236 5.707932447022737 0.9897890477499368 6.015289015240309 6.037258405985422 5.48212812860823 -0.5358986698629725 ]; bias = 0.6033435982508727\n"
     ]
    }
   ],
   "source": [
    "num = 5000\n",
    "data = MultiTest(num)"
   ]
  },
  {
   "cell_type": "markdown",
   "metadata": {
    "slideshow": {
     "slide_type": "slide"
    }
   },
   "source": [
    "# 查看训练结果"
   ]
  },
  {
   "cell_type": "code",
   "execution_count": 17,
   "metadata": {},
   "outputs": [
    {
     "data": {
      "text/html": [
       "<div>\n",
       "<style scoped>\n",
       "    .dataframe tbody tr th:only-of-type {\n",
       "        vertical-align: middle;\n",
       "    }\n",
       "\n",
       "    .dataframe tbody tr th {\n",
       "        vertical-align: top;\n",
       "    }\n",
       "\n",
       "    .dataframe thead th {\n",
       "        text-align: right;\n",
       "    }\n",
       "</style>\n",
       "<table border=\"1\" class=\"dataframe\">\n",
       "  <thead>\n",
       "    <tr style=\"text-align: right;\">\n",
       "      <th></th>\n",
       "      <th>person_1_choice</th>\n",
       "      <th>person_2_choice</th>\n",
       "      <th>person_3_choice</th>\n",
       "      <th>person_4_choice</th>\n",
       "      <th>person_5_choice</th>\n",
       "      <th>person_6_choice</th>\n",
       "      <th>truth</th>\n",
       "    </tr>\n",
       "  </thead>\n",
       "  <tbody>\n",
       "    <tr>\n",
       "      <th>0</th>\n",
       "      <td>-1</td>\n",
       "      <td>-1</td>\n",
       "      <td>-1</td>\n",
       "      <td>-1</td>\n",
       "      <td>-1</td>\n",
       "      <td>-1</td>\n",
       "      <td>-1</td>\n",
       "    </tr>\n",
       "    <tr>\n",
       "      <th>0</th>\n",
       "      <td>1</td>\n",
       "      <td>-1</td>\n",
       "      <td>1</td>\n",
       "      <td>-1</td>\n",
       "      <td>-1</td>\n",
       "      <td>-1</td>\n",
       "      <td>1</td>\n",
       "    </tr>\n",
       "    <tr>\n",
       "      <th>0</th>\n",
       "      <td>1</td>\n",
       "      <td>1</td>\n",
       "      <td>1</td>\n",
       "      <td>1</td>\n",
       "      <td>1</td>\n",
       "      <td>1</td>\n",
       "      <td>1</td>\n",
       "    </tr>\n",
       "    <tr>\n",
       "      <th>0</th>\n",
       "      <td>-1</td>\n",
       "      <td>1</td>\n",
       "      <td>-1</td>\n",
       "      <td>1</td>\n",
       "      <td>1</td>\n",
       "      <td>1</td>\n",
       "      <td>-1</td>\n",
       "    </tr>\n",
       "    <tr>\n",
       "      <th>0</th>\n",
       "      <td>-1</td>\n",
       "      <td>-1</td>\n",
       "      <td>-1</td>\n",
       "      <td>-1</td>\n",
       "      <td>-1</td>\n",
       "      <td>-1</td>\n",
       "      <td>-1</td>\n",
       "    </tr>\n",
       "  </tbody>\n",
       "</table>\n",
       "</div>"
      ],
      "text/plain": [
       "   person_1_choice  person_2_choice  person_3_choice  person_4_choice  \\\n",
       "0               -1               -1               -1               -1   \n",
       "0                1               -1                1               -1   \n",
       "0                1                1                1                1   \n",
       "0               -1                1               -1                1   \n",
       "0               -1               -1               -1               -1   \n",
       "\n",
       "   person_5_choice  person_6_choice  truth  \n",
       "0               -1               -1     -1  \n",
       "0               -1               -1      1  \n",
       "0                1                1      1  \n",
       "0                1                1     -1  \n",
       "0               -1               -1     -1  "
      ]
     },
     "execution_count": 17,
     "metadata": {},
     "output_type": "execute_result"
    }
   ],
   "source": [
    "result = data.result()\n",
    "result.head()"
   ]
  },
  {
   "cell_type": "markdown",
   "metadata": {
    "slideshow": {
     "slide_type": "slide"
    }
   },
   "source": [
    "# 绘图"
   ]
  },
  {
   "cell_type": "code",
   "execution_count": 18,
   "metadata": {
    "slideshow": {
     "slide_type": "fragment"
    }
   },
   "outputs": [
    {
     "data": {
      "text/html": [
       "<div>\n",
       "<style scoped>\n",
       "    .dataframe tbody tr th:only-of-type {\n",
       "        vertical-align: middle;\n",
       "    }\n",
       "\n",
       "    .dataframe tbody tr th {\n",
       "        vertical-align: top;\n",
       "    }\n",
       "\n",
       "    .dataframe thead th {\n",
       "        text-align: right;\n",
       "    }\n",
       "</style>\n",
       "<table border=\"1\" class=\"dataframe\">\n",
       "  <thead>\n",
       "    <tr style=\"text-align: right;\">\n",
       "      <th></th>\n",
       "      <th>correct ratio</th>\n",
       "    </tr>\n",
       "  </thead>\n",
       "  <tbody>\n",
       "    <tr>\n",
       "      <th>1</th>\n",
       "      <td>0.6720</td>\n",
       "    </tr>\n",
       "    <tr>\n",
       "      <th>2</th>\n",
       "      <td>0.6604</td>\n",
       "    </tr>\n",
       "    <tr>\n",
       "      <th>3</th>\n",
       "      <td>0.7312</td>\n",
       "    </tr>\n",
       "    <tr>\n",
       "      <th>4</th>\n",
       "      <td>0.6604</td>\n",
       "    </tr>\n",
       "    <tr>\n",
       "      <th>5</th>\n",
       "      <td>0.6604</td>\n",
       "    </tr>\n",
       "    <tr>\n",
       "      <th>6</th>\n",
       "      <td>0.6604</td>\n",
       "    </tr>\n",
       "  </tbody>\n",
       "</table>\n",
       "</div>"
      ],
      "text/plain": [
       "   correct ratio\n",
       "1         0.6720\n",
       "2         0.6604\n",
       "3         0.7312\n",
       "4         0.6604\n",
       "5         0.6604\n",
       "6         0.6604"
      ]
     },
     "execution_count": 18,
     "metadata": {},
     "output_type": "execute_result"
    }
   ],
   "source": [
    "ratio = []\n",
    "for i in range(1,7):\n",
    "    string = 'person_' + str(i) + \"_choice\"\n",
    "    temp = (len(result[result[string] == result['truth']]))/num\n",
    "    ratio.append(temp)\n",
    "ratio = pd.DataFrame(ratio,index = [1,2,3,4,5,6])\n",
    "ratio.columns = ['correct ratio']\n",
    "ratio"
   ]
  },
  {
   "cell_type": "code",
   "execution_count": 19,
   "metadata": {
    "slideshow": {
     "slide_type": "subslide"
    }
   },
   "outputs": [
    {
     "data": {
      "text/plain": [
       "<matplotlib.axes._subplots.AxesSubplot at 0x7f0fd4244ba8>"
      ]
     },
     "execution_count": 19,
     "metadata": {},
     "output_type": "execute_result"
    },
    {
     "data": {
      "image/png": "[encoded data removed]",
      "text/plain": [
       "<Figure size 936x432 with 1 Axes>"
      ]
     },
     "metadata": {
      "image/png": {
       "height": 357,
       "width": 764
      },
      "needs_background": "light"
     },
     "output_type": "display_data"
    }
   ],
   "source": [
    "ratio.plot(kind='bar', ylim=(0, 1), figsize=(13, 6))"
   ]
  },
  {
   "cell_type": "markdown",
   "metadata": {
    "slideshow": {
     "slide_type": "slide"
    }
   },
   "source": [
    "# 这就是神经网络\n",
    "它并不比我们推导出来的最优解更好。\n",
    "\n",
    "这是因为，我们的数据是线性不可分的，天然不是一个适合用神经网络的数据集。"
   ]
  }
 ],
 "metadata": {
  "celltoolbar": "幻灯片",
  "kernelspec": {
   "display_name": "Python 3",
   "language": "python",
   "name": "python3"
  },
  "language_info": {
   "codemirror_mode": {
    "name": "ipython",
    "version": 3
   },
   "file_extension": ".py",
   "mimetype": "text/x-python",
   "name": "python",
   "nbconvert_exporter": "python",
   "pygments_lexer": "ipython3",
   "version": "3.6.7"
  }
 },
 "nbformat": 4,
 "nbformat_minor": 2
}
