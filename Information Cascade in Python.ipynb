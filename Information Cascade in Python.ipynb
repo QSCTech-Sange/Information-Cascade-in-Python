{
 "cells": [
  {
   "cell_type": "markdown",
   "metadata": {},
   "source": [
    "# 信息瀑布实验\n",
    "探索最优策略\n",
    "## 实验介绍\n",
    "信息瀑布实验是经典的行为金融学实验。\n",
    "### 实验背景设定\n",
    "每组六个人。对每组来说，有两个杯子，一个红色杯子，一个蓝色杯子。其中，红色杯子里装有两个红球一个蓝球。蓝色杯子里装有两个蓝球一个红球。\n",
    "### 实验流程\n",
    "实验分为六轮。每一轮当中，计算机会随机挑选一种颜色的杯子。被试者不知道计算机选择的杯子是哪一个。\n",
    "\n",
    "计算机然后会给每个人发一个从该杯子里取出的球（每发完一个又放回去）。\n",
    "\n",
    "每组六个人有先后次序，来猜测计算机挑选的杯子颜色。第一个决策者只能从球的颜色来判断杯子的颜色。而第二个就可以通过第一个人的决策加上自己的球的颜色来决策，以此类推，排在后面的人便可以依照前面的人的选择结果来判断杯子的颜色。每一轮结束，杯子的真实信息会公布。\n",
    "## 经济理论\n",
    "主要有羊群行为和信息层叠模型。\n",
    "### 羊群行为\n",
    "羊群行为体现在信息瀑布实验和银行挤兑实验当中。羊群行为也就是“从众行为”，是指行为上的模仿和一致性。该词源于生物学对动物聚群特征的研究。\\par\n",
    "引申到人类社会，便表现为采用同样的思维活动，进行类似的行为，心理上依赖于和大多数人一样思考、感觉、行动，以减少采取行动的成本，获得尽可能大的收益。延伸到金融市场，借用生物学上羊群的群聚行为的概念，指代投资者在信息不确定的情况下，行为受到其他投资者的影响，模仿他人决策，或者过多依赖于舆论，而不考虑私人信息的行为。\n",
    "### 信息层叠模型\n",
    "信息层叠模型认为，一种投资策略会随着时间的流动而变动，如果先行者根据其私人信息采取了行动，后继者就会根据他们的行动来推测信息，借以修正自己的先验信息。如果后继者在修正过程中完全忽视先验信息或者给予先验信息过小的权重，就容易产生模仿先行者的行为。后继者赋予先验信息的权重大小取决于他对先验信息准确度的信心。\n",
    "信息瀑布中，人们的预期是用贝叶斯规则得到的。贝叶斯规则是指人们根据新的信息从先验概率得到后验概率的方法。"
   ]
  },
  {
   "cell_type": "markdown",
   "metadata": {},
   "source": [
    "## 代码流程\n",
    "我们需要找出最优策略，所以写下模拟实验的代码，来检验每一种策略的正确率是多少，从而指导我们判断出群体最理性的行为，使得猜对的概率尽可能大。"
   ]
  },
  {
   "cell_type": "markdown",
   "metadata": {},
   "source": [
    "### 引入库\n",
    "我们需要`numpy`来加速随机数的生成以及列表的处理。\n",
    "\n",
    "\n",
    "使用`pandas`来以列表的形式记录实验结果。\n",
    "\n",
    "\n",
    "使用`matplotlib`来可视化结果。\n",
    "\n",
    "如果没有的话请使用`pip install package_name`来安装。"
   ]
  },
  {
   "cell_type": "code",
   "execution_count": null,
   "metadata": {},
   "outputs": [],
   "source": [
    "import numpy as np\n",
    "import pandas as pd\n",
    "import matplotlib.pyplot as plt\n",
    "import fractions\n",
    "%matplotlib inline\n",
    "%config InlineBackend.figure_format = 'retina'"
   ]
  },
  {
   "cell_type": "markdown",
   "metadata": {},
   "source": [
    "### 定义类\n",
    "采用面向对象的程序设计思想，来尽可能降低代码的阅读难度。基于同样的目的，对于类的内部变量也没有封装。\n",
    "#### 球\n",
    "我们只需要定义一个内部变量颜色。"
   ]
  },
  {
   "cell_type": "code",
   "execution_count": null,
   "metadata": {},
   "outputs": [],
   "source": [
    "class Ball:\n",
    "    def __init__(self, color):\n",
    "        self.color = color"
   ]
  },
  {
   "cell_type": "markdown",
   "metadata": {},
   "source": [
    "#### 杯子\n",
    "我们需要根据杯子的颜色来建立杯子，还要定义里面装了三个球，球的颜色按照实验的要求。\n",
    "\n",
    "\n",
    "除了构造函数以外，定义了一个`pick()`函数，表示从杯子里随机抽一个球。返回的结果是字符串，表示颜色。"
   ]
  },
  {
   "cell_type": "code",
   "execution_count": null,
   "metadata": {},
   "outputs": [],
   "source": [
    "class Cup:\n",
    "    def __init__(self, color):\n",
    "        self.color = color\n",
    "        if color == 'Red':\n",
    "            self.balls = np.array([Ball('Red'), Ball('Red'), Ball('Blue')])\n",
    "        else:\n",
    "            self.balls = np.array([Ball('Red'), Ball('Blue'), Ball('Blue')])\n",
    "\n",
    "    def pick(self):\n",
    "        return self.balls[np.random.randint(0, 3)].color"
   ]
  },
  {
   "cell_type": "markdown",
   "metadata": {},
   "source": [
    "#### 杯子集合\n",
    "总共有两个杯子，一红一蓝。杯子集合就是这么定义了。\n",
    "\n",
    "还有一个函数`random_pick()`表示随机抽选一个杯子。返回的对象是`Cup`。\n",
    "\n",
    "其实也可以不要这个类，直接写在`test`函数中也可，看哪种方便你理解了。"
   ]
  },
  {
   "cell_type": "code",
   "execution_count": null,
   "metadata": {},
   "outputs": [],
   "source": [
    "class Cups:\n",
    "    def __init__(self):\n",
    "        self.Cups = np.array([Cup('Red'), Cup('Blue')])\n",
    "\n",
    "    def random_pick(self):\n",
    "        return self.Cups[np.random.randint(0, 2)]"
   ]
  },
  {
   "cell_type": "markdown",
   "metadata": {},
   "source": [
    "#### 人\n",
    "人的构造函数要指定一个`order`，即这个实验中给定的次序。因为不同的次序所作出的决策是不同的。\n",
    "\n",
    "人的内部变量有次序，有抽到的球的颜色，有选择的颜色，还有选择的是否正确(和杯子颜色相同)。\n",
    "\n",
    "**其中要值得关注的是`decide(info)`函数**。这表示了你所定义了的人的策略行为。它需要一个`info`，表示前人的选择结果。你可以随意改变其中的策略，来观察结果。`method`代表第几个方法。我预置了三种方法，第一种是优先考虑个人最优的方法（即个人的正确率最大），第二种是优先考虑群体最优的方法。\n",
    "第三种用于个人最优的对照。\n",
    "\n",
    "TODO: 如果时间允许的话，我会尝试使用一个利用感知器的简单的神经网络来自动化得出最优解。（咕咕咕警告）"
   ]
  },
  {
   "cell_type": "code",
   "execution_count": null,
   "metadata": {},
   "outputs": [],
   "source": [
    "class Person:\n",
    "    def __init__(self, order, Cup):\n",
    "        self.order = order\n",
    "        self.choice = None\n",
    "        self.right = False\n",
    "        self.cupcolor = Cup.color\n",
    "        self.picked = Cup.pick()\n",
    "\n",
    "    # TODO：feel free to add methods\n",
    "    def decide(self, info, method):\n",
    "        if method == 1:  # 优先考虑个人最优的情况\n",
    "            # 前两人选择自己抽到的颜色\n",
    "            if self.order == 1 or self.order == 2:\n",
    "                self.choice = self.picked\n",
    "            # 后人根据前两人来选择自己的颜色\n",
    "            else:\n",
    "                if info[self.order-2] == info[self.order-3]:\n",
    "                    self.choice = info[self.order -2]\n",
    "                else:\n",
    "                    self.choice = self.picked\n",
    "        if method == 2:  # 优先考虑最后一人最优的情况\n",
    "            if self.order != 6:\n",
    "                self.choice = self.picked\n",
    "            else:\n",
    "                info.append(self.picked)\n",
    "                if info.count('Red') > info.count('Blue'):\n",
    "                    self.choice = 'Red'\n",
    "                else:\n",
    "                    self.choice = 'Blue'\n",
    "        if method == 3:  # 作为一的对照组\n",
    "            # 前三人选择自己抽到的颜色\n",
    "            if self.order <= 3:\n",
    "                self.choice = self.picked\n",
    "            # 后人根据前三人来选择自己的颜色，完全不看自己的颜色\n",
    "            else:\n",
    "                info_temp = info[-3]\n",
    "                if info_temp.count('Red') > info_temp.count('Blue'):\n",
    "                    self.choice = 'Red'\n",
    "                else:\n",
    "                    self.choice = 'Blue'\n",
    "        if method == 4: # 前两人按照自己的选，后面人根据前面的人选，如果前面的总人数五五开，按照自己的选，否则按照前面的人选。\n",
    "            if self.order == 1 or self.order == 2:\n",
    "                self.choice = self.picked\n",
    "            else:\n",
    "                if info.count('Red') > info.count('Blue'):\n",
    "                    self.choice = 'Red'\n",
    "                if info.count('Red') < info.count('Blue'):\n",
    "                    self.choice = 'Blue'\n",
    "                else:\n",
    "                    self.choice = self.picked\n",
    "      # if method == 5 :\n",
    "            # it's your'turn now!\n",
    "        \n",
    "    def strategy(self, info, method):\n",
    "        self.decide(info, method)\n",
    "        if self.choice == self.cupcolor:\n",
    "            self.right = True"
   ]
  },
  {
   "cell_type": "markdown",
   "metadata": {},
   "source": [
    "### 策略分析\n",
    "仔细思考我所给出`method==1`的策略。\n",
    "\n",
    "\n",
    "1. 当我所在的位置是第一个人的时候，我会选择自己抽到的颜色。显然，我的正确率有`2/3`。\n",
    "\n",
    "2. 当我所在的位置是第二个人的时候，我还是会选择自己抽到的颜色。因为如果我和前人颜色相同必选前人，答对的概率为`4/5`。而不同的时候，我选哪种颜色的概率都是`1/2`。为了告诉下一个人我和前人颜色不同，所以坚守自己的颜色可以更偏向群体最优。\n",
    "\n",
    "3. 当我所在的位置是第三个人的时候，如果前两人颜色相同，我会跟从他们的选择。如果两人颜色不同，我会坚定自己的选择。为什么是这样的结果？这是我经过概率论的推导得出的。不会算？没关系，这就是写这篇`Notebook`的目的。你大可以根据你所认为的最优解调整策略，并观察结果。\n",
    "\n",
    "4. 当我所在的位置是第四个人的时候，如果前两人颜色相同（即第三个人也相同），我会选择相同的颜色。如果两人颜色不同，我会选择自己的颜色。\n",
    "\n",
    "5. 当我所在的位置是第五人的时候，如果三四两人颜色相同，跟从他们的选择。如果三四两人颜色也不同，坚守自己的选择。\n",
    "\n",
    "6. 当我所在的位置是第六人的时候，如果四五人颜色相同，跟从他们的选择。如果四五人颜色不同，坚守自己的选择。\n",
    "\n",
    "总的说来，就是前两人选自己的颜色，后面的人根据前两人是否相同而选择是否跟从他们。注意，必须人人按照这个规则，才可能得到最优群体解（最后一个人概率最大）。如果中间有一人打破，那么下一个人的最优解会发生变化。这经过了复杂而严密的推导——因为到后期所发生的分支实在是太多了。\n",
    "\n",
    "是不是越往后越绕，越乱？是时候更改代码验证你自己的策略啦！\n",
    "\n",
    "`method==2`时候的策略是前面五个人都遵照自己的意思，第六个人来判断，很明显是一种对最后一人最优的情况。\n",
    "\n",
    "`method==3`时候的策略是对于第一种策略的怀疑，可能你会觉得要前三个人都相同我才能更好地符合个人理性。是这样吗？我们实验来证明。\n",
    "\n",
    "你可能会怀疑，为什么只要看前三个人或者前两个人而不是看前面所有人，因为第四人或第三人的策略已经将前人的全部策略考虑进去了，所以我们更关注接近次序后面的人的选择。\n",
    "\n",
    "我知道你可能仍然在怀疑，而它已经列入`method==4` 里了。"
   ]
  },
  {
   "cell_type": "markdown",
   "metadata": {},
   "source": [
    "### Test 类\n",
    "`Test`类代表一次实验，需要传递杯子集合，然后抽取一个杯子。接着，自身创建一个人群，人群包含6个人。最后还需要一个信息集。信息集记录前面人的选择。\n",
    "`Test`的核心函数是`test()`，每一个人根据策略选择，然后添加进`info`当中。`test_result`返回了选择的结果，是一个`dataframe`类型。最后一个`print_result`函数只是单纯为了检验`Test`类写得是否正确，是可以被删去的。"
   ]
  },
  {
   "cell_type": "code",
   "execution_count": 6,
   "metadata": {},
   "outputs": [],
   "source": [
    "class Test:\n",
    "    def __init__(self, Cups):\n",
    "        self.cup = Cups.random_pick()\n",
    "        People = []\n",
    "        for i in range(1, 7):\n",
    "            People.append(Person(i, self.cup))\n",
    "        self.People = np.array(People)\n",
    "        self.info = []\n",
    "        \n",
    "    def test(self,method):\n",
    "        for i in range(0, 6):\n",
    "            self.People[i].strategy(self.info,method)\n",
    "            self.info.append(self.People[i].choice)\n",
    "\n",
    "    def test_result(self,rounds,method):\n",
    "        self.test(method)\n",
    "        data = pd.DataFrame([[rounds, 1, self.People[0].picked, self.People[0].choice, self.People[0].right]])\n",
    "        for i in range(1, 6):\n",
    "            choice = pd.DataFrame([[rounds, i + 1, self.People[i].picked, self.People[i].choice, self.People[i].right]])\n",
    "            data = data.append(choice)\n",
    "        return data\n",
    "    \n",
    "    def print_result(self):\n",
    "        print(\"Cup Color \" + self.cup.color)\n",
    "        print(\"Person id \" + \"  pick \" + \" claim \" + \" correct? \")\n",
    "        for i in range(0, 6):\n",
    "            print(\"     \" + str(i) + \"      \" + self.People[i].picked + \"   \" + self.People[i].choice +  \"   \" + str(self.People[i].right))"
   ]
  },
  {
   "cell_type": "markdown",
   "metadata": {},
   "source": [
    "### 检验代码是否正确\n",
    "先检验一次实验的结果。下面代码可以反复运行，看看实际结果是否符合我们要求的结果。这里使用的是Medthod 1。"
   ]
  },
  {
   "cell_type": "code",
   "execution_count": 7,
   "metadata": {
    "scrolled": true
   },
   "outputs": [
    {
     "name": "stdout",
     "output_type": "stream",
     "text": [
      "Cup Color Red\n",
      "Person id   pick  claim  correct? \n",
      "     0      Red   Red   True\n",
      "     1      Red   Red   True\n",
      "     2      Red   Red   True\n",
      "     3      Red   Red   True\n",
      "     4      Red   Red   True\n",
      "     5      Red   Red   True\n"
     ]
    }
   ],
   "source": [
    "cups = Cups()\n",
    "test = Test(cups)\n",
    "test.test(1)\n",
    "test.print_result()"
   ]
  },
  {
   "cell_type": "markdown",
   "metadata": {},
   "source": [
    "### Bingo!\n",
    "接下来需要反复测试并统计结果。我们定义一个`Multi_test`类。"
   ]
  },
  {
   "cell_type": "code",
   "execution_count": 8,
   "metadata": {},
   "outputs": [],
   "source": [
    "class Multi_test:\n",
    "    def __init__(self, num, method):\n",
    "        self.cups = Cups()\n",
    "        self.data = pd.DataFrame(Test(self.cups).test_result(1,method))\n",
    "        for i in range(1, num):\n",
    "            self.data = self.data.append(Test(self.cups).test_result(i+1,method))\n",
    "        self.data.columns=['round', 'order', 'picked', 'choice', 'right']\n",
    "\n",
    "    def result(self):\n",
    "        return self.data"
   ]
  },
  {
   "cell_type": "markdown",
   "metadata": {},
   "source": [
    "### 检验代码是否正确\n",
    "先检验一次实验的结果。反复测试输出的结果是否符合预期，这里简单重复100次实验，使用方法一。"
   ]
  },
  {
   "cell_type": "code",
   "execution_count": 9,
   "metadata": {},
   "outputs": [
    {
     "data": {
      "text/html": [
       "<div>\n",
       "<style scoped>\n",
       "    .dataframe tbody tr th:only-of-type {\n",
       "        vertical-align: middle;\n",
       "    }\n",
       "\n",
       "    .dataframe tbody tr th {\n",
       "        vertical-align: top;\n",
       "    }\n",
       "\n",
       "    .dataframe thead th {\n",
       "        text-align: right;\n",
       "    }\n",
       "</style>\n",
       "<table border=\"1\" class=\"dataframe\">\n",
       "  <thead>\n",
       "    <tr style=\"text-align: right;\">\n",
       "      <th></th>\n",
       "      <th>round</th>\n",
       "      <th>order</th>\n",
       "      <th>picked</th>\n",
       "      <th>choice</th>\n",
       "      <th>right</th>\n",
       "    </tr>\n",
       "  </thead>\n",
       "  <tbody>\n",
       "    <tr>\n",
       "      <th>0</th>\n",
       "      <td>1</td>\n",
       "      <td>1</td>\n",
       "      <td>Red</td>\n",
       "      <td>Red</td>\n",
       "      <td>False</td>\n",
       "    </tr>\n",
       "    <tr>\n",
       "      <th>0</th>\n",
       "      <td>1</td>\n",
       "      <td>2</td>\n",
       "      <td>Blue</td>\n",
       "      <td>Blue</td>\n",
       "      <td>True</td>\n",
       "    </tr>\n",
       "    <tr>\n",
       "      <th>0</th>\n",
       "      <td>1</td>\n",
       "      <td>3</td>\n",
       "      <td>Blue</td>\n",
       "      <td>Blue</td>\n",
       "      <td>True</td>\n",
       "    </tr>\n",
       "    <tr>\n",
       "      <th>0</th>\n",
       "      <td>1</td>\n",
       "      <td>4</td>\n",
       "      <td>Blue</td>\n",
       "      <td>Blue</td>\n",
       "      <td>True</td>\n",
       "    </tr>\n",
       "    <tr>\n",
       "      <th>0</th>\n",
       "      <td>1</td>\n",
       "      <td>5</td>\n",
       "      <td>Red</td>\n",
       "      <td>Blue</td>\n",
       "      <td>True</td>\n",
       "    </tr>\n",
       "    <tr>\n",
       "      <th>0</th>\n",
       "      <td>1</td>\n",
       "      <td>6</td>\n",
       "      <td>Red</td>\n",
       "      <td>Blue</td>\n",
       "      <td>True</td>\n",
       "    </tr>\n",
       "    <tr>\n",
       "      <th>0</th>\n",
       "      <td>2</td>\n",
       "      <td>1</td>\n",
       "      <td>Blue</td>\n",
       "      <td>Blue</td>\n",
       "      <td>True</td>\n",
       "    </tr>\n",
       "    <tr>\n",
       "      <th>0</th>\n",
       "      <td>2</td>\n",
       "      <td>2</td>\n",
       "      <td>Red</td>\n",
       "      <td>Red</td>\n",
       "      <td>False</td>\n",
       "    </tr>\n",
       "    <tr>\n",
       "      <th>0</th>\n",
       "      <td>2</td>\n",
       "      <td>3</td>\n",
       "      <td>Blue</td>\n",
       "      <td>Blue</td>\n",
       "      <td>True</td>\n",
       "    </tr>\n",
       "    <tr>\n",
       "      <th>0</th>\n",
       "      <td>2</td>\n",
       "      <td>4</td>\n",
       "      <td>Blue</td>\n",
       "      <td>Blue</td>\n",
       "      <td>True</td>\n",
       "    </tr>\n",
       "    <tr>\n",
       "      <th>0</th>\n",
       "      <td>2</td>\n",
       "      <td>5</td>\n",
       "      <td>Blue</td>\n",
       "      <td>Blue</td>\n",
       "      <td>True</td>\n",
       "    </tr>\n",
       "    <tr>\n",
       "      <th>0</th>\n",
       "      <td>2</td>\n",
       "      <td>6</td>\n",
       "      <td>Blue</td>\n",
       "      <td>Blue</td>\n",
       "      <td>True</td>\n",
       "    </tr>\n",
       "  </tbody>\n",
       "</table>\n",
       "</div>"
      ],
      "text/plain": [
       "   round  order picked choice  right\n",
       "0      1      1    Red    Red  False\n",
       "0      1      2   Blue   Blue   True\n",
       "0      1      3   Blue   Blue   True\n",
       "0      1      4   Blue   Blue   True\n",
       "0      1      5    Red   Blue   True\n",
       "0      1      6    Red   Blue   True\n",
       "0      2      1   Blue   Blue   True\n",
       "0      2      2    Red    Red  False\n",
       "0      2      3   Blue   Blue   True\n",
       "0      2      4   Blue   Blue   True\n",
       "0      2      5   Blue   Blue   True\n",
       "0      2      6   Blue   Blue   True"
      ]
     },
     "execution_count": 9,
     "metadata": {},
     "output_type": "execute_result"
    }
   ],
   "source": [
    "test = Multi_test(100,1).result()\n",
    "test.head(12)"
   ]
  },
  {
   "cell_type": "markdown",
   "metadata": {},
   "source": [
    "## Bingo!"
   ]
  },
  {
   "cell_type": "markdown",
   "metadata": {},
   "source": [
    "定义Medthod_Test,我们希望给定epoch和method，自动绘制出结果和显示比例。\n",
    "\n",
    "我们需要什么样的统计结果呢？\n",
    "\n",
    "我们需要看六个次序的不同的人，他们判断正确的人有多少。"
   ]
  },
  {
   "cell_type": "code",
   "execution_count": 10,
   "metadata": {},
   "outputs": [],
   "source": [
    "class Method_Test:\n",
    "    def __init__(self, method, epoch):\n",
    "        Test = Multi_test(epoch, method).result()\n",
    "        self.whole_right =  Test[Test['right'] == True].drop(['round', 'picked', 'choice'], axis=1).count()\n",
    "        self.grouped = Test[Test['right'] == True].drop(['round', 'picked', 'choice'], axis=1).groupby('order').count()      \n",
    "        self.epoch = epoch\n",
    "        \n",
    "    def plot(self):\n",
    "        self.grouped.plot(kind='bar', ylim=(0, self.epoch), figsize=(13, 6))\n",
    "\n",
    "    def ratio(self):\n",
    "        self.grouped['right'] = self.grouped['right'] / self.epoch\n",
    "        return self.grouped\n",
    "        \n",
    "    def ratio_whole(self):\n",
    "        print(self.whole_right/epoch/6)"
   ]
  },
  {
   "cell_type": "markdown",
   "metadata": {},
   "source": [
    "## 定义测试轮数\n",
    "我们测试20000轮。使用`head()`函数来检查是否运行正确。20000这个数字可以随意更改。越大越精确，同时运行速度越慢。"
   ]
  },
  {
   "cell_type": "code",
   "execution_count": 11,
   "metadata": {},
   "outputs": [],
   "source": [
    "epoch = 20000"
   ]
  },
  {
   "cell_type": "markdown",
   "metadata": {},
   "source": [
    "### 方法一："
   ]
  },
  {
   "cell_type": "code",
   "execution_count": 12,
   "metadata": {},
   "outputs": [
    {
     "data": {
      "image/png": "[encoded data removed]",
      "text/plain": [
       "<Figure size 936x432 with 1 Axes>"
      ]
     },
     "metadata": {
      "image/png": {
       "height": 371,
       "width": 780
      },
      "needs_background": "light"
     },
     "output_type": "display_data"
    }
   ],
   "source": [
    "test_1 = Method_Test(1,epoch)\n",
    "test_1.plot()"
   ]
  },
  {
   "cell_type": "markdown",
   "metadata": {},
   "source": [
    "我们可以看到，排在第一二次序的人正确率是非常接近`2/3`的。从第二到第三的正确率大幅增加。在第三到第六次序依次几乎不变。我们用比例进行更好地展示。"
   ]
  },
  {
   "cell_type": "code",
   "execution_count": 13,
   "metadata": {},
   "outputs": [
    {
     "data": {
      "text/html": [
       "<div>\n",
       "<style scoped>\n",
       "    .dataframe tbody tr th:only-of-type {\n",
       "        vertical-align: middle;\n",
       "    }\n",
       "\n",
       "    .dataframe tbody tr th {\n",
       "        vertical-align: top;\n",
       "    }\n",
       "\n",
       "    .dataframe thead th {\n",
       "        text-align: right;\n",
       "    }\n",
       "</style>\n",
       "<table border=\"1\" class=\"dataframe\">\n",
       "  <thead>\n",
       "    <tr style=\"text-align: right;\">\n",
       "      <th></th>\n",
       "      <th>right</th>\n",
       "    </tr>\n",
       "    <tr>\n",
       "      <th>order</th>\n",
       "      <th></th>\n",
       "    </tr>\n",
       "  </thead>\n",
       "  <tbody>\n",
       "    <tr>\n",
       "      <th>1</th>\n",
       "      <td>0.66485</td>\n",
       "    </tr>\n",
       "    <tr>\n",
       "      <th>2</th>\n",
       "      <td>0.66990</td>\n",
       "    </tr>\n",
       "    <tr>\n",
       "      <th>3</th>\n",
       "      <td>0.74045</td>\n",
       "    </tr>\n",
       "    <tr>\n",
       "      <th>4</th>\n",
       "      <td>0.74235</td>\n",
       "    </tr>\n",
       "    <tr>\n",
       "      <th>5</th>\n",
       "      <td>0.75765</td>\n",
       "    </tr>\n",
       "    <tr>\n",
       "      <th>6</th>\n",
       "      <td>0.75965</td>\n",
       "    </tr>\n",
       "  </tbody>\n",
       "</table>\n",
       "</div>"
      ],
      "text/plain": [
       "         right\n",
       "order         \n",
       "1      0.66485\n",
       "2      0.66990\n",
       "3      0.74045\n",
       "4      0.74235\n",
       "5      0.75765\n",
       "6      0.75965"
      ]
     },
     "execution_count": 13,
     "metadata": {},
     "output_type": "execute_result"
    }
   ],
   "source": [
    "test_1.ratio().head(6)"
   ]
  },
  {
   "cell_type": "code",
   "execution_count": 14,
   "metadata": {},
   "outputs": [
    {
     "name": "stdout",
     "output_type": "stream",
     "text": [
      "order    0.722475\n",
      "right    0.722475\n",
      "dtype: float64\n"
     ]
    }
   ],
   "source": [
    "test_1.ratio_whole()"
   ]
  },
  {
   "cell_type": "markdown",
   "metadata": {},
   "source": [
    "这是一个使得自身正确率最大的策略。其中，所有人的准确率综合是大于0.71的。"
   ]
  },
  {
   "cell_type": "markdown",
   "metadata": {},
   "source": [
    "## 对照其他组\n",
    "### 方法二（最后一人正确率优先）"
   ]
  },
  {
   "cell_type": "code",
   "execution_count": 15,
   "metadata": {},
   "outputs": [
    {
     "data": {
      "image/png": "[encoded data removed]",
      "text/plain": [
       "<Figure size 936x432 with 1 Axes>"
      ]
     },
     "metadata": {
      "image/png": {
       "height": 371,
       "width": 780
      },
      "needs_background": "light"
     },
     "output_type": "display_data"
    }
   ],
   "source": [
    "test_2 = Method_Test(2,epoch)\n",
    "test_2.plot()"
   ]
  },
  {
   "cell_type": "markdown",
   "metadata": {},
   "source": [
    "可以看到，这种策略的结果是前几位正确率在`2/3`左右，最后一位的结果大幅增加，符合我们的预期。"
   ]
  },
  {
   "cell_type": "code",
   "execution_count": 16,
   "metadata": {},
   "outputs": [
    {
     "data": {
      "text/html": [
       "<div>\n",
       "<style scoped>\n",
       "    .dataframe tbody tr th:only-of-type {\n",
       "        vertical-align: middle;\n",
       "    }\n",
       "\n",
       "    .dataframe tbody tr th {\n",
       "        vertical-align: top;\n",
       "    }\n",
       "\n",
       "    .dataframe thead th {\n",
       "        text-align: right;\n",
       "    }\n",
       "</style>\n",
       "<table border=\"1\" class=\"dataframe\">\n",
       "  <thead>\n",
       "    <tr style=\"text-align: right;\">\n",
       "      <th></th>\n",
       "      <th>right</th>\n",
       "    </tr>\n",
       "    <tr>\n",
       "      <th>order</th>\n",
       "      <th></th>\n",
       "    </tr>\n",
       "  </thead>\n",
       "  <tbody>\n",
       "    <tr>\n",
       "      <th>1</th>\n",
       "      <td>0.67235</td>\n",
       "    </tr>\n",
       "    <tr>\n",
       "      <th>2</th>\n",
       "      <td>0.66995</td>\n",
       "    </tr>\n",
       "    <tr>\n",
       "      <th>3</th>\n",
       "      <td>0.66965</td>\n",
       "    </tr>\n",
       "    <tr>\n",
       "      <th>4</th>\n",
       "      <td>0.67180</td>\n",
       "    </tr>\n",
       "    <tr>\n",
       "      <th>5</th>\n",
       "      <td>0.66560</td>\n",
       "    </tr>\n",
       "    <tr>\n",
       "      <th>6</th>\n",
       "      <td>0.79300</td>\n",
       "    </tr>\n",
       "  </tbody>\n",
       "</table>\n",
       "</div>"
      ],
      "text/plain": [
       "         right\n",
       "order         \n",
       "1      0.67235\n",
       "2      0.66995\n",
       "3      0.66965\n",
       "4      0.67180\n",
       "5      0.66560\n",
       "6      0.79300"
      ]
     },
     "execution_count": 16,
     "metadata": {},
     "output_type": "execute_result"
    }
   ],
   "source": [
    "test_2.ratio().head(6)"
   ]
  },
  {
   "cell_type": "code",
   "execution_count": 17,
   "metadata": {},
   "outputs": [
    {
     "name": "stdout",
     "output_type": "stream",
     "text": [
      "order    0.690392\n",
      "right    0.690392\n",
      "dtype: float64\n"
     ]
    }
   ],
   "source": [
    "test_2.ratio_whole()"
   ]
  },
  {
   "cell_type": "markdown",
   "metadata": {},
   "source": [
    "但是这种策略的综合正确率只有0.68左右。"
   ]
  },
  {
   "cell_type": "markdown",
   "metadata": {},
   "source": [
    "### 方法三"
   ]
  },
  {
   "cell_type": "code",
   "execution_count": 18,
   "metadata": {},
   "outputs": [
    {
     "data": {
      "image/png": "[encoded data removed]",
      "text/plain": [
       "<Figure size 936x432 with 1 Axes>"
      ]
     },
     "metadata": {
      "image/png": {
       "height": 371,
       "width": 780
      },
      "needs_background": "light"
     },
     "output_type": "display_data"
    }
   ],
   "source": [
    "test_3 = Method_Test(3,epoch)\n",
    "test_3.plot()"
   ]
  },
  {
   "cell_type": "code",
   "execution_count": 19,
   "metadata": {},
   "outputs": [
    {
     "data": {
      "text/html": [
       "<div>\n",
       "<style scoped>\n",
       "    .dataframe tbody tr th:only-of-type {\n",
       "        vertical-align: middle;\n",
       "    }\n",
       "\n",
       "    .dataframe tbody tr th {\n",
       "        vertical-align: top;\n",
       "    }\n",
       "\n",
       "    .dataframe thead th {\n",
       "        text-align: right;\n",
       "    }\n",
       "</style>\n",
       "<table border=\"1\" class=\"dataframe\">\n",
       "  <thead>\n",
       "    <tr style=\"text-align: right;\">\n",
       "      <th></th>\n",
       "      <th>right</th>\n",
       "    </tr>\n",
       "    <tr>\n",
       "      <th>order</th>\n",
       "      <th></th>\n",
       "    </tr>\n",
       "  </thead>\n",
       "  <tbody>\n",
       "    <tr>\n",
       "      <th>1</th>\n",
       "      <td>0.67155</td>\n",
       "    </tr>\n",
       "    <tr>\n",
       "      <th>2</th>\n",
       "      <td>0.66875</td>\n",
       "    </tr>\n",
       "    <tr>\n",
       "      <th>3</th>\n",
       "      <td>0.66840</td>\n",
       "    </tr>\n",
       "    <tr>\n",
       "      <th>4</th>\n",
       "      <td>0.67155</td>\n",
       "    </tr>\n",
       "    <tr>\n",
       "      <th>5</th>\n",
       "      <td>0.66875</td>\n",
       "    </tr>\n",
       "    <tr>\n",
       "      <th>6</th>\n",
       "      <td>0.66840</td>\n",
       "    </tr>\n",
       "  </tbody>\n",
       "</table>\n",
       "</div>"
      ],
      "text/plain": [
       "         right\n",
       "order         \n",
       "1      0.67155\n",
       "2      0.66875\n",
       "3      0.66840\n",
       "4      0.67155\n",
       "5      0.66875\n",
       "6      0.66840"
      ]
     },
     "execution_count": 19,
     "metadata": {},
     "output_type": "execute_result"
    }
   ],
   "source": [
    "test_3.ratio().head(6)"
   ]
  },
  {
   "cell_type": "code",
   "execution_count": 20,
   "metadata": {},
   "outputs": [
    {
     "name": "stdout",
     "output_type": "stream",
     "text": [
      "order    0.669567\n",
      "right    0.669567\n",
      "dtype: float64\n"
     ]
    }
   ],
   "source": [
    "test_3.ratio_whole()"
   ]
  },
  {
   "cell_type": "markdown",
   "metadata": {},
   "source": [
    "实验表明，这种策略看起来很美好，实际上让所有人的正确率都很低，和按照自己球颜色的一样，大家都是`2/3`的概率"
   ]
  },
  {
   "cell_type": "markdown",
   "metadata": {},
   "source": [
    "### 方法四"
   ]
  },
  {
   "cell_type": "code",
   "execution_count": 21,
   "metadata": {},
   "outputs": [
    {
     "data": {
      "image/png": "[encoded data removed]",
      "text/plain": [
       "<Figure size 936x432 with 1 Axes>"
      ]
     },
     "metadata": {
      "image/png": {
       "height": 371,
       "width": 780
      },
      "needs_background": "light"
     },
     "output_type": "display_data"
    }
   ],
   "source": [
    "test_4 = Method_Test(4,epoch)\n",
    "test_4.plot()"
   ]
  },
  {
   "cell_type": "code",
   "execution_count": 22,
   "metadata": {},
   "outputs": [
    {
     "data": {
      "text/html": [
       "<div>\n",
       "<style scoped>\n",
       "    .dataframe tbody tr th:only-of-type {\n",
       "        vertical-align: middle;\n",
       "    }\n",
       "\n",
       "    .dataframe tbody tr th {\n",
       "        vertical-align: top;\n",
       "    }\n",
       "\n",
       "    .dataframe thead th {\n",
       "        text-align: right;\n",
       "    }\n",
       "</style>\n",
       "<table border=\"1\" class=\"dataframe\">\n",
       "  <thead>\n",
       "    <tr style=\"text-align: right;\">\n",
       "      <th></th>\n",
       "      <th>right</th>\n",
       "    </tr>\n",
       "    <tr>\n",
       "      <th>order</th>\n",
       "      <th></th>\n",
       "    </tr>\n",
       "  </thead>\n",
       "  <tbody>\n",
       "    <tr>\n",
       "      <th>1</th>\n",
       "      <td>0.66395</td>\n",
       "    </tr>\n",
       "    <tr>\n",
       "      <th>2</th>\n",
       "      <td>0.66505</td>\n",
       "    </tr>\n",
       "    <tr>\n",
       "      <th>3</th>\n",
       "      <td>0.70025</td>\n",
       "    </tr>\n",
       "    <tr>\n",
       "      <th>4</th>\n",
       "      <td>0.70040</td>\n",
       "    </tr>\n",
       "    <tr>\n",
       "      <th>5</th>\n",
       "      <td>0.70265</td>\n",
       "    </tr>\n",
       "    <tr>\n",
       "      <th>6</th>\n",
       "      <td>0.70140</td>\n",
       "    </tr>\n",
       "  </tbody>\n",
       "</table>\n",
       "</div>"
      ],
      "text/plain": [
       "         right\n",
       "order         \n",
       "1      0.66395\n",
       "2      0.66505\n",
       "3      0.70025\n",
       "4      0.70040\n",
       "5      0.70265\n",
       "6      0.70140"
      ]
     },
     "execution_count": 22,
     "metadata": {},
     "output_type": "execute_result"
    }
   ],
   "source": [
    "test_4.ratio().head(6)"
   ]
  },
  {
   "cell_type": "code",
   "execution_count": 23,
   "metadata": {},
   "outputs": [
    {
     "name": "stdout",
     "output_type": "stream",
     "text": [
      "order    0.68895\n",
      "right    0.68895\n",
      "dtype: float64\n"
     ]
    }
   ],
   "source": [
    "test_4.ratio_whole()"
   ]
  },
  {
   "cell_type": "markdown",
   "metadata": {},
   "source": [
    "这个结果算是相当**令人惊愕**了。考虑了之前所有选择，被给予厚望的方法四效果仅仅比按照自己颜色选好了一点点。虽然参照以往的经验，确实是让每个人的正确率稳步提升，但是提升幅度实在是太小了。这也用实验印证了最初的策略分析内容。"
   ]
  },
  {
   "cell_type": "markdown",
   "metadata": {},
   "source": [
    "## 更好的测试方法？"
   ]
  },
  {
   "cell_type": "markdown",
   "metadata": {},
   "source": [
    "我们可以利用**深度学习中的神经网络**来自动最优化出最优参数。\n",
    "\n",
    "方法是这样：\n",
    "1. 首先将一种颜色定义为1，另一种定义为0\n",
    "2. 先只考虑第三人的情况，假定前两人都是按照自身的情况来选——这是没有争议的最优解。\n",
    "3. 我们考虑三个变量，分别是第一个人的选择，第二个人的选择，和自身所抽中的球的颜色，当然都是以0,1表示的。\n",
    "4. 任意给定三个权重，譬如0.25,0.25,0.5（按照假定，应该是越往后次序抽到的颜色权重越重要，所以这样假设，当然也可以随机假设）。这三者对应前面三个变量的系数，也就是权重。将这三个权重分别与前三个变量乘起来，得到的和，就是对于颜色的预测。所以这三个权重加起来的值为1。预测值大于0.5代表大于1的颜色，小于0.5代表小于1的颜色。\n",
    "5. 定义一个损失函数，代表预测颜色和实际颜色不一致的错误率。\n",
    "6. 不断调整权重，使得预测结果尽可能地好。\n",
    "\n",
    "举例来说，如果第一个选择了红色(1)，第二个人选择了蓝色(0)，你自己抽到了蓝色(0)。初始化的权重是0.25,0.25,0.5。\n",
    "所以你对于颜色的结果预测是\n",
    "\n",
    "$$\n",
    "    \\hat{P} = 1 \\times 0.25 + 0 \\times 0.25 + 0 \\times 0.5 = 0.25 < 0 \n",
    "$$\n",
    "\n",
    "小于0,即认为是蓝色。\n",
    "损失函数通常使用交叉熵损失函数。它不仅衡量了猜对的个数，而且要求，颜色为0的预测结果越接近0的，比预测结果在0.4左右的更好。\n",
    "\n",
    "$$\n",
    "L(\\hat{y},y) = -ylog(\\hat{y}) - (1-y)log(1-\\hat{y})\n",
    "$$\n",
    "\n",
    "调整权重的算法这里使用简单的单层感知器。即找到一个预测错的点，然后权重=权重+$y_i\\times x_i$"
   ]
  },
  {
   "cell_type": "markdown",
   "metadata": {},
   "source": [
    "时间允许的话，我会尽早在另一个文档中完成这个模型。\n",
    "文件位置在\n",
    "\n",
    "\n",
    "https://github.com/QSCTech-Sange/Information-Cascade-in-Python/blob/master/Neural%20Network%20Version.ipynb"
   ]
  }
 ],
 "metadata": {
  "kernelspec": {
   "display_name": "Python 3",
   "language": "python",
   "name": "python3"
  },
  "language_info": {
   "codemirror_mode": {
    "name": "ipython",
    "version": 3
   },
   "file_extension": ".py",
   "mimetype": "text/x-python",
   "name": "python",
   "nbconvert_exporter": "python",
   "pygments_lexer": "ipython3",
   "version": "3.6.7"
  }
 },
 "nbformat": 4,
 "nbformat_minor": 2
}
