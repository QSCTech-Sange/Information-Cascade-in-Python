{
 "cells": [
  {
   "cell_type": "markdown",
   "metadata": {},
   "source": [
    "# 神经网络判断最优策略"
   ]
  },
  {
   "cell_type": "markdown",
   "metadata": {},
   "source": [
    "我们可以利用**深度学习中的神经网络**来自动最优化出最优参数。\n",
    "方法是这样：\n",
    "1. 首先将一种颜色定义为1，另一种定义为0\n",
    "2. 先只考虑第三人的情况，假定前两人都是按照自身的情况来选——这是没有争议的最优解。\n",
    "3. 我们考虑三个变量，分别是第一个人的选择，第二个人的选择，和自身所抽中的球的颜色，当然都是以0,1表示的。\n",
    "4. 任意给定三个权重，譬如0.25,0.25,0.5（按照假定，应该是越往后次序抽到的颜色权重越重要，所以这样假设，当然也可以随机假设）。这三者对应前面三个变量的系数，也就是权重。将这三个权重分别与前三个变量乘起来，得到的和，就是对于颜色的预测。所以这三个权重加起来的值为1。预测值大于0.5代表大于1的颜色，小于0.5代表小于1的颜色。\n",
    "5. 定义一个损失函数，代表预测颜色和实际颜色不一致的错误率。\n",
    "6. 不断调整权重，使得预测结果尽可能地好。\n",
    "\n",
    "举例来说，如果第一个选择了红色(1)，第二个人选择了蓝色(0)，你自己抽到了蓝色(0)。初始化的权重是0.25,0.25,0.5。\n",
    "所以你对于颜色的结果预测是\n",
    "$$\n",
    "    \\hat{P} = 1 \\times 0.25 + 0 \\times 0.25 + 0 \\times 0.5 = 0.25 < 0 \n",
    "$$\n",
    "小于0,即认为是蓝色。\n",
    "损失函数通常使用交叉熵损失函数。它不仅衡量了猜对的个数，而且要求，颜色为0的预测结果越接近0的，比预测结果在0.4左右的更好。\n",
    "$$\n",
    "L(\\hat{y},y) = -ylog(\\hat{y}) - (1-y)log(1-\\hat{y})\n",
    "$$\n",
    "调整权重的算法这里使用简单的单层感知器。即找到一个预测错的点，然后权重=权重+$y_i\\times x_i$"
   ]
  },
  {
   "cell_type": "markdown",
   "metadata": {},
   "source": [
    "## 导入库"
   ]
  },
  {
   "cell_type": "code",
   "execution_count": 3,
   "metadata": {},
   "outputs": [],
   "source": [
    "import numpy as np\n",
    "import pandas as pd\n",
    "import matplotlib.pyplot as plt\n",
    "import fractions\n",
    "%matplotlib inline\n",
    "%config InlineBackend.figure_format = 'retina'"
   ]
  },
  {
   "cell_type": "markdown",
   "metadata": {},
   "source": [
    "## 仿照上一篇定义类\n",
    "但是红球定义为1,蓝球定义为0，同时删去Method。"
   ]
  },
  {
   "cell_type": "code",
   "execution_count": null,
   "metadata": {},
   "outputs": [],
   "source": [
    "class Ball:\n",
    "    def __init__(self, color):\n",
    "        self.color = color\n",
    "\n",
    "class Cup:\n",
    "    def __init__(self, color):\n",
    "        self.color = color\n",
    "        if color == 1:\n",
    "            self.balls = np.array([Ball(1), Ball(1), Ball(0)])\n",
    "        else:\n",
    "            self.balls = np.array([Ball(1), Ball(0), Ball(0)])\n",
    "\n",
    "    def pick(self):\n",
    "        return self.balls[np.random.randint(0, 3)].color\n",
    "    \n",
    "class Cups:\n",
    "    def __init__(self):\n",
    "        self.Cups = np.array([Cup(1), Cup(0)])\n",
    "\n",
    "    def random_pick(self):\n",
    "        return self.Cups[np.random.randint(0, 2)]\n",
    "    \n",
    "class Person:\n",
    "    def __init__(self, order, Cup):\n",
    "        self.order = order\n",
    "        self.choice = None\n",
    "        self.right = False\n",
    "        self.cupcolor = Cup.color\n",
    "        self.picked = Cup.pick()\n",
    "\n",
    "    def decide(self, info):\n",
    "        if self.order == 1 or self.order == 2:\n",
    "            self.choice = self.picked\n",
    "        else\n",
    "            self.choice = None\n",
    "        \n",
    "    def strategy(self, info, ):\n",
    "        self.decide(info, )\n",
    "        if self.choice == self.cupcolor:\n",
    "            self.right = True\n",
    "\n",
    "class Test:\n",
    "    def __init__(self, Cups):\n",
    "        self.cup = Cups.random_pick()\n",
    "        People = []\n",
    "        for i in range(1, 7):\n",
    "            People.append(Person(i, self.cup))\n",
    "        self.People = np.array(People)\n",
    "        self.info = []\n",
    "        \n",
    "    def test(self,):\n",
    "        for i in range(0, 6):\n",
    "            self.People[i].strategy(self.info,)\n",
    "            self.info.append(self.People[i].choice)\n",
    "\n",
    "    def test_result(self,rounds,):\n",
    "        self.test()\n",
    "        data = pd.DataFrame([[rounds, 1, self.People[0].picked, self.People[0].choice, self.People[0].right]])\n",
    "        for i in range(1, 6):\n",
    "            choice = pd.DataFrame([[rounds, i + 1, self.People[i].picked, self.People[i].choice, self.People[i].right]])\n",
    "            data = data.append(choice)\n",
    "        return data\n",
    "    \n",
    "class Multi_test:\n",
    "    def __init__(self, num, ):\n",
    "        self.cups = Cups()\n",
    "        self.data = pd.DataFrame(Test(self.cups).test_result(1,))\n",
    "        for i in range(1, num):\n",
    "            self.data = self.data.append(Test(self.cups).test_result(i+1,))\n",
    "        self.data.columns=['round', 'order', 'picked', 'choice', 'right']\n",
    "\n",
    "    def result(self):\n",
    "        return self.data"
   ]
  }
 ],
 "metadata": {
  "kernelspec": {
   "display_name": "Python 3",
   "language": "python",
   "name": "python3"
  },
  "language_info": {
   "codemirror_mode": {
    "name": "ipython",
    "version": 3
   },
   "file_extension": ".py",
   "mimetype": "text/x-python",
   "name": "python",
   "nbconvert_exporter": "python",
   "pygments_lexer": "ipython3",
   "version": "3.6.7"
  }
 },
 "nbformat": 4,
 "nbformat_minor": 2
}
